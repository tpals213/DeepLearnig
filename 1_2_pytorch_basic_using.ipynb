{
  "nbformat": 4,
  "nbformat_minor": 0,
  "metadata": {
    "colab": {
      "provenance": [],
      "gpuType": "T4",
      "authorship_tag": "ABX9TyOuf9G3GPtNufe8lDneP0gG",
      "include_colab_link": true
    },
    "kernelspec": {
      "name": "python3",
      "display_name": "Python 3"
    },
    "language_info": {
      "name": "python"
    },
    "accelerator": "GPU"
  },
  "cells": [
    {
      "cell_type": "markdown",
      "metadata": {
        "id": "view-in-github",
        "colab_type": "text"
      },
      "source": [
        "<a href=\"https://colab.research.google.com/github/tpals213/DeepLearnig/blob/main/1_2_pytorch_basic_using.ipynb\" target=\"_parent\"><img src=\"https://colab.research.google.com/assets/colab-badge.svg\" alt=\"Open In Colab\"/></a>"
      ]
    },
    {
      "cell_type": "markdown",
      "source": [
        "# PyTorch Tensor Basic Usage  \n",
        "\n",
        "- Create Tensor\n",
        "- Indexing, Joinging, Slicing\n",
        "- Initializaion\n",
        "- Math Operation"
      ],
      "metadata": {
        "id": "2_fNS0jpWMtv"
      }
    },
    {
      "cell_type": "code",
      "execution_count": 2,
      "metadata": {
        "colab": {
          "base_uri": "https://localhost:8080/"
        },
        "id": "82ke6IJfWBAO",
        "outputId": "e449c4ad-d403-4373-ab86-31a0a15c05c8"
      },
      "outputs": [
        {
          "output_type": "execute_result",
          "data": {
            "text/plain": [
              "tensor([[0.5518, 0.4918, 0.1209],\n",
              "        [0.2815, 0.2556, 0.7772]])"
            ]
          },
          "metadata": {},
          "execution_count": 2
        }
      ],
      "source": [
        "# Create Tensor\n",
        "# 1) random numbers\n",
        "import torch\n",
        "\n",
        "# torch.rand(sizes) --> (0, 1) 사이의 실수형 값을 랜덤값으로 발생함\n",
        "# sizes : 1차원갯수, 2차원 행렬갯수 등 지정\n",
        "# 0과 1사이의 실수형 숫자를 균등하게 생성\n",
        "x = torch.rand(2, 3)\n",
        "x"
      ]
    },
    {
      "cell_type": "code",
      "source": [
        "# torch.randn(sizes) --> Z(0, 1)\n",
        "# 평균이 0이고 표준편차가 1인 가우시안 정규분포를 이용해서 생성\n",
        "x = torch.randn(2, 3)\n",
        "x"
      ],
      "metadata": {
        "colab": {
          "base_uri": "https://localhost:8080/"
        },
        "id": "AXvmbSpEYgy_",
        "outputId": "1d1a6758-c68a-4949-ce67-b1cb4a9ec215"
      },
      "execution_count": null,
      "outputs": [
        {
          "output_type": "execute_result",
          "data": {
            "text/plain": [
              "tensor([[ 1.5020, -0.3568, -0.5635],\n",
              "        [ 0.8474, -0.8446, -0.1826]])"
            ]
          },
          "metadata": {},
          "execution_count": 5
        }
      ]
    },
    {
      "cell_type": "code",
      "source": [
        "# torch.randperm(n) --> permutation of 0 ~ n\n",
        "x =  torch.randperm(5)\n",
        "x"
      ],
      "metadata": {
        "colab": {
          "base_uri": "https://localhost:8080/"
        },
        "id": "q5iQX-l2ZEOf",
        "outputId": "0b4b0860-34e5-4f24-addf-4d4f240f5fb1"
      },
      "execution_count": null,
      "outputs": [
        {
          "output_type": "execute_result",
          "data": {
            "text/plain": [
              "tensor([4, 2, 1, 3, 0])"
            ]
          },
          "metadata": {},
          "execution_count": 6
        }
      ]
    },
    {
      "cell_type": "markdown",
      "source": [
        "# 1) torch 에서 랜덤값으로 텐서 생성\n",
        "1. torch.rand() : 0과 1 사이의 실수형 숫자 균등 생성\n",
        "2. torch.rand_like() : 사이즈를 튜플로 입력 X, 기존의 텐서로 정의\n",
        "3. torch.randn() : 평균이 0이고 표준편차가 1인 정규분포를 이용해서 생성\n",
        "4. torch.randn_like() : 기존의 텐서를 사용해서 같은 텐서를 생성\n",
        "5. torch.randint() : 주어진 범위 내의 정수를 균등하게 생성\n",
        "6. torch.randint_like() : 텐서 이용, 같은 텐서 생성\n",
        "7. torch.randperm() : 주어진 범위 내의 정수를 랜덤 생성\n",
        "\n",
        "# 2) zeros, ones, arange"
      ],
      "metadata": {
        "id": "tj4Ll47QZbIX"
      }
    },
    {
      "cell_type": "code",
      "source": [
        "# torch.zeros(2, 3) --> [[0, 0, 0], ... ,[0, 0, 0]]\n",
        "x = torch.zeros(2, 3)\n",
        "x"
      ],
      "metadata": {
        "colab": {
          "base_uri": "https://localhost:8080/"
        },
        "id": "gGLnFBRIwtRp",
        "outputId": "4ca30dc3-db7e-4aa0-99ab-e85c4767ce9c"
      },
      "execution_count": 3,
      "outputs": [
        {
          "output_type": "execute_result",
          "data": {
            "text/plain": [
              "tensor([[0., 0., 0.],\n",
              "        [0., 0., 0.]])"
            ]
          },
          "metadata": {},
          "execution_count": 3
        }
      ]
    },
    {
      "cell_type": "code",
      "source": [
        "# torch.ones(2, 3) --> [[1, 1, 1], ... ,[1, 1, 1]]\n",
        "x = torch.ones(2, 3)\n",
        "x"
      ],
      "metadata": {
        "colab": {
          "base_uri": "https://localhost:8080/"
        },
        "id": "9EK1A9vVy1sH",
        "outputId": "7d5d6b1b-4eb7-4b9c-a188-37654307d049"
      },
      "execution_count": 4,
      "outputs": [
        {
          "output_type": "execute_result",
          "data": {
            "text/plain": [
              "tensor([[1., 1., 1.],\n",
              "        [1., 1., 1.]])"
            ]
          },
          "metadata": {},
          "execution_count": 4
        }
      ]
    },
    {
      "cell_type": "code",
      "source": [
        "# torch.arange(start, end, step=1)\n",
        "x = torch.arange(0, 3, step=0.5)\n",
        "x"
      ],
      "metadata": {
        "colab": {
          "base_uri": "https://localhost:8080/"
        },
        "id": "6AfYMgmxy_L3",
        "outputId": "d623da56-dcd2-4022-ccb8-244adde88449"
      },
      "execution_count": 6,
      "outputs": [
        {
          "output_type": "execute_result",
          "data": {
            "text/plain": [
              "tensor([0.0000, 0.5000, 1.0000, 1.5000, 2.0000, 2.5000])"
            ]
          },
          "metadata": {},
          "execution_count": 6
        }
      ]
    },
    {
      "cell_type": "markdown",
      "source": [
        "# 3) Tensor Data Type"
      ],
      "metadata": {
        "id": "Orr15xAMzkne"
      }
    },
    {
      "cell_type": "code",
      "source": [
        "# torch.FloatTensor(size or list)\n",
        "x = torch.FloatTensor(2, 3)\n",
        "x"
      ],
      "metadata": {
        "colab": {
          "base_uri": "https://localhost:8080/"
        },
        "id": "7FkMWuJEzoCQ",
        "outputId": "85ad73a0-2c4e-4c88-97d9-b0735860eeed"
      },
      "execution_count": 7,
      "outputs": [
        {
          "output_type": "execute_result",
          "data": {
            "text/plain": [
              "tensor([[1.4013e-45, 0.0000e+00, 0.0000e+00],\n",
              "        [0.0000e+00, 0.0000e+00, 0.0000e+00]])"
            ]
          },
          "metadata": {},
          "execution_count": 7
        }
      ]
    },
    {
      "cell_type": "code",
      "source": [
        "x = torch.FloatTensor([12, 35])\n",
        "x"
      ],
      "metadata": {
        "colab": {
          "base_uri": "https://localhost:8080/"
        },
        "id": "AgfvST3Q0ERd",
        "outputId": "4f173fd7-365a-43c5-936a-db151824e13d"
      },
      "execution_count": 8,
      "outputs": [
        {
          "output_type": "execute_result",
          "data": {
            "text/plain": [
              "tensor([12., 35.])"
            ]
          },
          "metadata": {},
          "execution_count": 8
        }
      ]
    },
    {
      "cell_type": "code",
      "source": [
        "# tensor.type_as(tensor_type)\n",
        "# 기존 텐서의 값의 자료형을 바꿀 때 사용\n",
        "x = x.type_as(torch.IntTensor())\n",
        "x"
      ],
      "metadata": {
        "colab": {
          "base_uri": "https://localhost:8080/"
        },
        "id": "Tq0RH6z40VtW",
        "outputId": "8208ed9c-a8db-4446-a95d-bd7024088b8f"
      },
      "execution_count": 9,
      "outputs": [
        {
          "output_type": "execute_result",
          "data": {
            "text/plain": [
              "tensor([12, 35], dtype=torch.int32)"
            ]
          },
          "metadata": {},
          "execution_count": 9
        }
      ]
    },
    {
      "cell_type": "markdown",
      "source": [
        "# 4) Numpy to Tensor, Tensor to Numpy"
      ],
      "metadata": {
        "id": "PaaYNa0U0-g-"
      }
    },
    {
      "cell_type": "code",
      "source": [
        "import numpy as np\n",
        "\n",
        "# torch.from_numpy(ndarray) --> Tensor\n",
        "x1 = np.ndarray(shape=(2, 3), dtype=int, buffer=np.array([1, 2, 3, 4, 5, 6]))\n",
        "x2 = torch.from_numpy(x1)\n",
        "x1, x2"
      ],
      "metadata": {
        "colab": {
          "base_uri": "https://localhost:8080/"
        },
        "id": "ltWBpEAB0-Rf",
        "outputId": "2706ea7a-6eb2-4c7e-f789-b5fae38a835a"
      },
      "execution_count": 10,
      "outputs": [
        {
          "output_type": "execute_result",
          "data": {
            "text/plain": [
              "(array([[1, 2, 3],\n",
              "        [4, 5, 6]]),\n",
              " tensor([[1, 2, 3],\n",
              "         [4, 5, 6]]))"
            ]
          },
          "metadata": {},
          "execution_count": 10
        }
      ]
    },
    {
      "cell_type": "code",
      "source": [
        "# torch.numpy() --> ndarray\n",
        "x3 = x2.numpy()\n",
        "x3"
      ],
      "metadata": {
        "colab": {
          "base_uri": "https://localhost:8080/"
        },
        "id": "2n8uFAoI2DuH",
        "outputId": "b579c1c3-39a9-43fb-ff29-6ad795bada49"
      },
      "execution_count": 11,
      "outputs": [
        {
          "output_type": "execute_result",
          "data": {
            "text/plain": [
              "array([[1, 2, 3],\n",
              "       [4, 5, 6]])"
            ]
          },
          "metadata": {},
          "execution_count": 11
        }
      ]
    },
    {
      "cell_type": "markdown",
      "source": [
        "# 5) Tensor on CPU & CPU"
      ],
      "metadata": {
        "id": "DSmCrdLz2Uh2"
      }
    },
    {
      "cell_type": "code",
      "source": [
        "x = torch.FloatTensor([[1, 2, 3,], [4, 5, 6]])\n",
        "x"
      ],
      "metadata": {
        "colab": {
          "base_uri": "https://localhost:8080/"
        },
        "id": "4cR6O1ho2a-l",
        "outputId": "e84dd252-05d0-483a-9995-9020748a8ed1"
      },
      "execution_count": 12,
      "outputs": [
        {
          "output_type": "execute_result",
          "data": {
            "text/plain": [
              "tensor([[1., 2., 3.],\n",
              "        [4., 5., 6.]])"
            ]
          },
          "metadata": {},
          "execution_count": 12
        }
      ]
    },
    {
      "cell_type": "code",
      "source": [
        "x_gpu = x.cuda()\n",
        "x_gpu"
      ],
      "metadata": {
        "colab": {
          "base_uri": "https://localhost:8080/"
        },
        "id": "nA5GfDaZ2oUX",
        "outputId": "8e7f57ee-172d-4ebe-a76d-765ca4a6b853"
      },
      "execution_count": 13,
      "outputs": [
        {
          "output_type": "execute_result",
          "data": {
            "text/plain": [
              "tensor([[1., 2., 3.],\n",
              "        [4., 5., 6.]], device='cuda:0')"
            ]
          },
          "metadata": {},
          "execution_count": 13
        }
      ]
    },
    {
      "cell_type": "markdown",
      "source": [
        "# 6) Tensor size"
      ],
      "metadata": {
        "id": "zM0Z3yI23BBT"
      }
    },
    {
      "cell_type": "code",
      "source": [
        "# tensor.size() --> 인덱스값\n",
        "x = torch.FloatTensor(10, 12, 3, 3)\n",
        "x.size()[:]"
      ],
      "metadata": {
        "colab": {
          "base_uri": "https://localhost:8080/"
        },
        "id": "XdaQkWxH3Dnm",
        "outputId": "e146b48d-a704-4d50-df8c-caeeb17f58f2"
      },
      "execution_count": 14,
      "outputs": [
        {
          "output_type": "execute_result",
          "data": {
            "text/plain": [
              "torch.Size([10, 12, 3, 3])"
            ]
          },
          "metadata": {},
          "execution_count": 14
        }
      ]
    },
    {
      "cell_type": "markdown",
      "source": [
        "# 2. Indexing, Slicing, Joining\n",
        "1) Indexing"
      ],
      "metadata": {
        "id": "g6VcCDdk3tS9"
      }
    },
    {
      "cell_type": "code",
      "source": [
        "# torch.index_select(input, dim, index)\n",
        "x = torch.rand(4, 3)\n",
        "out = torch.index_select(x, 0, torch.LongTensor([0, 3]))\n",
        "x, out"
      ],
      "metadata": {
        "colab": {
          "base_uri": "https://localhost:8080/"
        },
        "id": "08LkRtEH33Zl",
        "outputId": "563f967b-0007-45b4-92e3-df32b569217d"
      },
      "execution_count": 15,
      "outputs": [
        {
          "output_type": "execute_result",
          "data": {
            "text/plain": [
              "(tensor([[0.5494, 0.7025, 0.2788],\n",
              "         [0.2612, 0.8756, 0.7390],\n",
              "         [0.3767, 0.8241, 0.2131],\n",
              "         [0.6657, 0.8180, 0.9964]]),\n",
              " tensor([[0.5494, 0.7025, 0.2788],\n",
              "         [0.6657, 0.8180, 0.9964]]))"
            ]
          },
          "metadata": {},
          "execution_count": 15
        }
      ]
    },
    {
      "cell_type": "code",
      "source": [
        "# python indexing 사용 가능\n",
        "x[:, 0], x[0, :], x[0:2, 0:2]"
      ],
      "metadata": {
        "colab": {
          "base_uri": "https://localhost:8080/"
        },
        "id": "mVxue_Fy4uwQ",
        "outputId": "f7f6fd67-bf51-4dc0-9ad5-a1f14cd7f84d"
      },
      "execution_count": 16,
      "outputs": [
        {
          "output_type": "execute_result",
          "data": {
            "text/plain": [
              "(tensor([0.5494, 0.2612, 0.3767, 0.6657]),\n",
              " tensor([0.5494, 0.7025, 0.2788]),\n",
              " tensor([[0.5494, 0.7025],\n",
              "         [0.2612, 0.8756]]))"
            ]
          },
          "metadata": {},
          "execution_count": 16
        }
      ]
    },
    {
      "cell_type": "code",
      "source": [
        "# torch.masked_select(input, mask)\n",
        "x = torch.randn(2, 3)\n",
        "mask = torch.BoolTensor([[0, 0, 1], [0, 1, 0]])\n",
        "out = torch.masked_select(x, mask)\n",
        "\n",
        "x, mask, out"
      ],
      "metadata": {
        "colab": {
          "base_uri": "https://localhost:8080/"
        },
        "id": "-NJQ3ldj5dr9",
        "outputId": "0841e72b-7590-4bcb-a2c0-c520ee494b32"
      },
      "execution_count": 20,
      "outputs": [
        {
          "output_type": "execute_result",
          "data": {
            "text/plain": [
              "(tensor([[-0.0532,  0.7617,  0.5104],\n",
              "         [ 0.4914, -0.2266, -0.5336]]),\n",
              " tensor([[False, False,  True],\n",
              "         [False,  True, False]]),\n",
              " tensor([ 0.5104, -0.2266]))"
            ]
          },
          "metadata": {},
          "execution_count": 20
        }
      ]
    },
    {
      "cell_type": "markdown",
      "source": [
        "2) Joining"
      ],
      "metadata": {
        "id": "ZxioKEeK6lUu"
      }
    },
    {
      "cell_type": "code",
      "source": [
        "# torch.cat(seq, dim = 0)\n",
        "x = torch.FloatTensor([[1, 2, 3], [4, 5, 6]])\n",
        "y = torch.FloatTensor([[-1, -2, -3], [-4, -5, -6]])\n",
        "\n",
        "z1 = torch.cat([x, y], dim=0) # dim=0 (행), 아래에 합쳐짐\n",
        "z2 = torch.cat([x, y], dim=1) # dim=1 (열), 옆으로 합쳐짐\n",
        "z1, z2"
      ],
      "metadata": {
        "colab": {
          "base_uri": "https://localhost:8080/"
        },
        "id": "rpxGNIKR6q6G",
        "outputId": "17b6fd2e-34d3-4871-c1e4-b0346ec5d2e0"
      },
      "execution_count": 23,
      "outputs": [
        {
          "output_type": "execute_result",
          "data": {
            "text/plain": [
              "(tensor([[ 1.,  2.,  3.],\n",
              "         [ 4.,  5.,  6.],\n",
              "         [-1., -2., -3.],\n",
              "         [-4., -5., -6.]]),\n",
              " tensor([[ 1.,  2.,  3., -1., -2., -3.],\n",
              "         [ 4.,  5.,  6., -4., -5., -6.]]))"
            ]
          },
          "metadata": {},
          "execution_count": 23
        }
      ]
    },
    {
      "cell_type": "code",
      "source": [
        "# torch.stack(sequence, dim=0) --> 새로운 차원으로 추가\n",
        "x = torch.FloatTensor(([1, 2, 3], [4, 5, 6])) # (2, 3) shape\n",
        "x_stack = torch.stack([x, x, x, x], dim=0) #(4, 2, 3) shape\n",
        "\n",
        "x_stack"
      ],
      "metadata": {
        "colab": {
          "base_uri": "https://localhost:8080/"
        },
        "id": "nUCxZMgT_4jW",
        "outputId": "fc65f2db-16cd-4da7-c981-2da68905badb"
      },
      "execution_count": 25,
      "outputs": [
        {
          "output_type": "execute_result",
          "data": {
            "text/plain": [
              "tensor([[[1., 2., 3.],\n",
              "         [4., 5., 6.]],\n",
              "\n",
              "        [[1., 2., 3.],\n",
              "         [4., 5., 6.]],\n",
              "\n",
              "        [[1., 2., 3.],\n",
              "         [4., 5., 6.]],\n",
              "\n",
              "        [[1., 2., 3.],\n",
              "         [4., 5., 6.]]])"
            ]
          },
          "metadata": {},
          "execution_count": 25
        }
      ]
    },
    {
      "cell_type": "markdown",
      "source": [
        "3) Slicing"
      ],
      "metadata": {
        "id": "-4PNa8MLAg9G"
      }
    },
    {
      "cell_type": "code",
      "source": [
        "# torch.chunk(tensor, chunks, dim=0)\n",
        "x_1, x_2 = torch.chunk(z1, 2, dim=0)  # dim=0 이면 행을 2개로 분할\n",
        "x_1, x_2"
      ],
      "metadata": {
        "colab": {
          "base_uri": "https://localhost:8080/"
        },
        "id": "B6ri3HjXAjYl",
        "outputId": "11501537-d5aa-4429-f5ea-45d70483d0af"
      },
      "execution_count": 26,
      "outputs": [
        {
          "output_type": "execute_result",
          "data": {
            "text/plain": [
              "(tensor([[1., 2., 3.],\n",
              "         [4., 5., 6.]]),\n",
              " tensor([[-1., -2., -3.],\n",
              "         [-4., -5., -6.]]))"
            ]
          },
          "metadata": {},
          "execution_count": 26
        }
      ]
    },
    {
      "cell_type": "code",
      "source": [
        "y_1, y_2, y_3 = torch.chunk(z1, 3, dim=1)  # dim=1 이면 열을 3개로 분할\n",
        "y_1, y_2, y_3"
      ],
      "metadata": {
        "colab": {
          "base_uri": "https://localhost:8080/"
        },
        "id": "HAXeNqusBaJ1",
        "outputId": "7931f11d-1ffc-4f4a-9db8-47051aae7364"
      },
      "execution_count": 27,
      "outputs": [
        {
          "output_type": "execute_result",
          "data": {
            "text/plain": [
              "(tensor([[ 1.],\n",
              "         [ 4.],\n",
              "         [-1.],\n",
              "         [-4.]]),\n",
              " tensor([[ 2.],\n",
              "         [ 5.],\n",
              "         [-2.],\n",
              "         [-5.]]),\n",
              " tensor([[ 3.],\n",
              "         [ 6.],\n",
              "         [-3.],\n",
              "         [-6.]]))"
            ]
          },
          "metadata": {},
          "execution_count": 27
        }
      ]
    },
    {
      "cell_type": "code",
      "source": [
        "# torch.split(tensor, split_size, dim=0)\n",
        "x1, x2 = torch.split(z1, 2, dim=0)\n",
        "y1 = torch.split(z1, 2, dim=1) # 3개 열을 2개로 분리한 경우\n",
        "\n",
        "z1, x1, x2,y1"
      ],
      "metadata": {
        "colab": {
          "base_uri": "https://localhost:8080/"
        },
        "id": "plNMxS8FCREt",
        "outputId": "5e21a613-f2c9-4241-b325-4aef485fabc6"
      },
      "execution_count": 30,
      "outputs": [
        {
          "output_type": "execute_result",
          "data": {
            "text/plain": [
              "(tensor([[ 1.,  2.,  3.],\n",
              "         [ 4.,  5.,  6.],\n",
              "         [-1., -2., -3.],\n",
              "         [-4., -5., -6.]]),\n",
              " tensor([[1., 2., 3.],\n",
              "         [4., 5., 6.]]),\n",
              " tensor([[-1., -2., -3.],\n",
              "         [-4., -5., -6.]]),\n",
              " (tensor([[ 1.,  2.],\n",
              "          [ 4.,  5.],\n",
              "          [-1., -2.],\n",
              "          [-4., -5.]]),\n",
              "  tensor([[ 3.],\n",
              "          [ 6.],\n",
              "          [-3.],\n",
              "          [-6.]])))"
            ]
          },
          "metadata": {},
          "execution_count": 30
        }
      ]
    },
    {
      "cell_type": "markdown",
      "source": [
        "4) squeezing"
      ],
      "metadata": {
        "id": "1BZmIxCiCb4N"
      }
    },
    {
      "cell_type": "code",
      "source": [
        "# torch.squeeze(input, dim=None)  # 숫자가 1인 차원을 제거\n",
        "\n",
        "x1 = torch.FloatTensor(10, 1, 3, 14)\n",
        "# 차원(dimension) 의 개념\n",
        "# 10 : batch size (데이터 한 묶음당 들어 있는 데이터(x, y)쌍의 갯수)\n",
        "# 1 : channel size\n",
        "# 3 : width image size\n",
        "# 14 : height image size\n",
        "\n",
        "x2 = torch.squeeze(x1)\n",
        "\n",
        "x1.size(), x2.size()"
      ],
      "metadata": {
        "colab": {
          "base_uri": "https://localhost:8080/"
        },
        "id": "Kt5kNKKyCd9V",
        "outputId": "5b77e4d7-a2e0-4c28-e723-5adcac6cc3c8"
      },
      "execution_count": 31,
      "outputs": [
        {
          "output_type": "execute_result",
          "data": {
            "text/plain": [
              "(torch.Size([10, 1, 3, 14]), torch.Size([10, 3, 14]))"
            ]
          },
          "metadata": {},
          "execution_count": 31
        }
      ]
    },
    {
      "cell_type": "code",
      "source": [
        "# torch,unsqueeze(input, dim=None) --> # 숫자가 1인 차원을 추가\n",
        "x1 = torch.FloatTensor(10, 3, 4)\n",
        "x2 = torch.unsqueeze(x1, dim=0) # dim=0 이면 첫번째 위치에 추가\n",
        "\n",
        "x1.size(), x2.size()"
      ],
      "metadata": {
        "colab": {
          "base_uri": "https://localhost:8080/"
        },
        "id": "mwBKA3DcDtOV",
        "outputId": "d746bede-003a-4d42-cba4-67d95d35771a"
      },
      "execution_count": 32,
      "outputs": [
        {
          "output_type": "execute_result",
          "data": {
            "text/plain": [
              "(torch.Size([10, 3, 4]), torch.Size([1, 10, 3, 4]))"
            ]
          },
          "metadata": {},
          "execution_count": 32
        }
      ]
    },
    {
      "cell_type": "markdown",
      "source": [
        "# 3. Initializaion"
      ],
      "metadata": {
        "id": "4V-l_5l5EY8l"
      }
    },
    {
      "cell_type": "code",
      "source": [
        "import torch.nn.init as init\n",
        "\n",
        "x1 = init.uniform_(torch.FloatTensor(3, 4), a=0, b=9)  # a에서 b사이의 값으로 초기화한다\n",
        "x2 = init.normal_(torch.FloatTensor(3, 4), std=0.2)  # 표준편차가 0.2 적용해서 초기화\n",
        "x3 = init.constant_(torch.FloatTensor(3, 4), 3.145)  # 지정된 상수값으로 초기화\n",
        "\n",
        "x1, x2, x3"
      ],
      "metadata": {
        "colab": {
          "base_uri": "https://localhost:8080/"
        },
        "id": "K4T7ckn4EefE",
        "outputId": "f7dc400a-023e-490f-a737-bf8b5fb2f85b"
      },
      "execution_count": 40,
      "outputs": [
        {
          "output_type": "execute_result",
          "data": {
            "text/plain": [
              "(tensor([[2.0369, 0.2522, 1.1093, 5.8574],\n",
              "         [2.5507, 7.7975, 2.4841, 0.7690],\n",
              "         [6.4022, 5.1426, 4.1259, 2.2690]]),\n",
              " tensor([[-0.0455,  0.0809, -0.0357,  0.2544],\n",
              "         [ 0.3656, -0.1692, -0.0310, -0.0335],\n",
              "         [-0.0224, -0.3464,  0.0037, -0.1840]]),\n",
              " tensor([[3.1450, 3.1450, 3.1450, 3.1450],\n",
              "         [3.1450, 3.1450, 3.1450, 3.1450],\n",
              "         [3.1450, 3.1450, 3.1450, 3.1450]]))"
            ]
          },
          "metadata": {},
          "execution_count": 40
        }
      ]
    },
    {
      "cell_type": "markdown",
      "source": [
        "# 4. Math Operations\n",
        "1) Arithmetic operation"
      ],
      "metadata": {
        "id": "BPegjd-vGB1c"
      }
    },
    {
      "cell_type": "code",
      "source": [
        "# torch.add()\n",
        "x1 = torch.FloatTensor([[1, 2, 3], [4, 5, 6]])\n",
        "x2 = torch.FloatTensor([[1, 2, 3], [4, 5, 6]])\n",
        "add = torch.add(x1, x2)\n",
        "\n",
        "add, x1+x2, x1 - x2"
      ],
      "metadata": {
        "colab": {
          "base_uri": "https://localhost:8080/"
        },
        "id": "LIwa7DB4GTj8",
        "outputId": "f10bf185-6bdc-4000-9841-948385a909ee"
      },
      "execution_count": 43,
      "outputs": [
        {
          "output_type": "execute_result",
          "data": {
            "text/plain": [
              "(tensor([[ 2.,  4.,  6.],\n",
              "         [ 8., 10., 12.]]),\n",
              " tensor([[ 2.,  4.,  6.],\n",
              "         [ 8., 10., 12.]]),\n",
              " tensor([[0., 0., 0.],\n",
              "         [0., 0., 0.]]))"
            ]
          },
          "metadata": {},
          "execution_count": 43
        }
      ]
    },
    {
      "cell_type": "code",
      "source": [
        "x1 = torch.FloatTensor([[1, 2, 3], [4, 5, 6]])\n",
        "x2 = torch.add(x1, 10)\n",
        "\n",
        "x1, x2, x1+10"
      ],
      "metadata": {
        "colab": {
          "base_uri": "https://localhost:8080/"
        },
        "id": "27BAgilcG7rc",
        "outputId": "c4efd6c2-53eb-46ae-cb96-8b08fc0f6206"
      },
      "execution_count": 45,
      "outputs": [
        {
          "output_type": "execute_result",
          "data": {
            "text/plain": [
              "(tensor([[1., 2., 3.],\n",
              "         [4., 5., 6.]]),\n",
              " tensor([[11., 12., 13.],\n",
              "         [14., 15., 16.]]),\n",
              " tensor([[11., 12., 13.],\n",
              "         [14., 15., 16.]]))"
            ]
          },
          "metadata": {},
          "execution_count": 45
        }
      ]
    },
    {
      "cell_type": "code",
      "source": [
        "# toch.mul() 곱하기\n",
        "x1 = torch.FloatTensor([[1, 2, 3], [4, 5, 6]])\n",
        "x2 = torch.FloatTensor([[1, 2, 3], [4, 5, 6]])\n",
        "mul = torch.mul(x1, x2)\n",
        "mul, x1*x2"
      ],
      "metadata": {
        "colab": {
          "base_uri": "https://localhost:8080/"
        },
        "id": "SNV4snJpHVcs",
        "outputId": "585c98a3-25c1-4699-b73b-ec0ab37f0b6e"
      },
      "execution_count": 46,
      "outputs": [
        {
          "output_type": "execute_result",
          "data": {
            "text/plain": [
              "(tensor([[ 1.,  4.,  9.],\n",
              "         [16., 25., 36.]]),\n",
              " tensor([[ 1.,  4.,  9.],\n",
              "         [16., 25., 36.]]))"
            ]
          },
          "metadata": {},
          "execution_count": 46
        }
      ]
    },
    {
      "cell_type": "code",
      "source": [
        "# toch.div() 나누기\n",
        "x1 = torch.FloatTensor([[1, 2, 3], [4, 5, 6]])\n",
        "x2 = torch.div(x1, 5)\n",
        "\n",
        "x1, x2, x1/5"
      ],
      "metadata": {
        "colab": {
          "base_uri": "https://localhost:8080/"
        },
        "id": "00aLQ-JQHtZt",
        "outputId": "4cdb3509-f61f-451f-a7a4-f61e0bdf281e"
      },
      "execution_count": 47,
      "outputs": [
        {
          "output_type": "execute_result",
          "data": {
            "text/plain": [
              "(tensor([[1., 2., 3.],\n",
              "         [4., 5., 6.]]),\n",
              " tensor([[0.2000, 0.4000, 0.6000],\n",
              "         [0.8000, 1.0000, 1.2000]]),\n",
              " tensor([[0.2000, 0.4000, 0.6000],\n",
              "         [0.8000, 1.0000, 1.2000]]))"
            ]
          },
          "metadata": {},
          "execution_count": 47
        }
      ]
    },
    {
      "cell_type": "markdown",
      "source": [
        "2) Other MAth Operations"
      ],
      "metadata": {
        "id": "V1uhNrJFIHoL"
      }
    },
    {
      "cell_type": "code",
      "source": [
        "# torch.pow(input, exponent)\n",
        "x1 = torch.FloatTensor(3, 4)\n",
        "\n",
        "x1, torch.pow(x1, 2), x1**2"
      ],
      "metadata": {
        "colab": {
          "base_uri": "https://localhost:8080/"
        },
        "id": "PjpGmz8UIGl2",
        "outputId": "bd7f397b-ef9c-4596-8b65-1add80d9336d"
      },
      "execution_count": 51,
      "outputs": [
        {
          "output_type": "execute_result",
          "data": {
            "text/plain": [
              "(tensor([[1.3033e-14, 3.0892e-41, 1.0842e-19, 1.7000e+00],\n",
              "         [2.0000e+00, 1.7750e+00, 1.0842e-19, 1.8250e+00],\n",
              "         [0.0000e+00, 1.8750e+00, 2.0000e+00, 1.9000e+00]]),\n",
              " tensor([[1.6986e-28, 0.0000e+00, 1.1755e-38, 2.8900e+00],\n",
              "         [4.0000e+00, 3.1506e+00, 1.1755e-38, 3.3306e+00],\n",
              "         [0.0000e+00, 3.5156e+00, 4.0000e+00, 3.6100e+00]]),\n",
              " tensor([[1.6986e-28, 0.0000e+00, 1.1755e-38, 2.8900e+00],\n",
              "         [4.0000e+00, 3.1506e+00, 1.1755e-38, 3.3306e+00],\n",
              "         [0.0000e+00, 3.5156e+00, 4.0000e+00, 3.6100e+00]]))"
            ]
          },
          "metadata": {},
          "execution_count": 51
        }
      ]
    },
    {
      "cell_type": "code",
      "source": [
        "# torch.exp(tensor, out=None)\n",
        "x1 = torch.FloatTensor([[1, 2, 3], [4, 5, 6]])\n",
        "out = torch.exp(x1)\n",
        "\n",
        "x1, out"
      ],
      "metadata": {
        "colab": {
          "base_uri": "https://localhost:8080/"
        },
        "id": "tlMceXrrIjim",
        "outputId": "4c00212d-abfc-4271-c594-e1fb97ec5c3a"
      },
      "execution_count": 55,
      "outputs": [
        {
          "output_type": "execute_result",
          "data": {
            "text/plain": [
              "(tensor([[1., 2., 3.],\n",
              "         [4., 5., 6.]]),\n",
              " tensor([[  2.7183,   7.3891,  20.0855],\n",
              "         [ 54.5981, 148.4132, 403.4288]]))"
            ]
          },
          "metadata": {},
          "execution_count": 55
        }
      ]
    },
    {
      "cell_type": "code",
      "source": [
        "# torch.log(tensor, out=None)\n",
        "x1 = torch.FloatTensor(3, 4)\n",
        "out = torch.log(x1)\n",
        "\n",
        "x1, out"
      ],
      "metadata": {
        "colab": {
          "base_uri": "https://localhost:8080/"
        },
        "id": "MYqHqjAMJBEM",
        "outputId": "5487b5f6-b75f-4e38-b201-077e5f1faca5"
      },
      "execution_count": 54,
      "outputs": [
        {
          "output_type": "execute_result",
          "data": {
            "text/plain": [
              "(tensor([[0.0000e+00, 0.0000e+00, 0.0000e+00, 0.0000e+00],\n",
              "         [0.0000e+00, 0.0000e+00, 0.0000e+00, 0.0000e+00],\n",
              "         [1.4013e-45, 0.0000e+00, 0.0000e+00, 0.0000e+00]]),\n",
              " tensor([[     -inf,      -inf,      -inf,      -inf],\n",
              "         [     -inf,      -inf,      -inf,      -inf],\n",
              "         [-103.2789,      -inf,      -inf,      -inf]]))"
            ]
          },
          "metadata": {},
          "execution_count": 54
        }
      ]
    },
    {
      "cell_type": "markdown",
      "source": [
        "3) Matrix operation"
      ],
      "metadata": {
        "id": "mOxHYue_JmO0"
      }
    },
    {
      "cell_type": "code",
      "source": [
        "# torch.mm(mat1, mat2)\n",
        "x1 = torch.FloatTensor(3, 4)\n",
        "x2 = torch.FloatTensor(4, 5)\n",
        "out = torch.mm(x1, x2)\n",
        "\n",
        "out, x1@x2"
      ],
      "metadata": {
        "colab": {
          "base_uri": "https://localhost:8080/"
        },
        "id": "oHNqEyZUJo7D",
        "outputId": "f9b5ea6c-5b14-432f-ee45-c8d72b59c13f"
      },
      "execution_count": 57,
      "outputs": [
        {
          "output_type": "execute_result",
          "data": {
            "text/plain": [
              "(tensor([[6.3564e+16, 0.0000e+00, 2.8948e-08, 0.0000e+00, 0.0000e+00],\n",
              "         [4.0988e-13, 0.0000e+00, 1.8666e-37, 0.0000e+00, 0.0000e+00],\n",
              "         [3.9808e+16, 5.1608e-34, 1.8114e-08, 0.0000e+00, 0.0000e+00]]),\n",
              " tensor([[6.3564e+16, 0.0000e+00, 2.8948e-08, 0.0000e+00, 0.0000e+00],\n",
              "         [4.0988e-13, 0.0000e+00, 1.8666e-37, 0.0000e+00, 0.0000e+00],\n",
              "         [3.9808e+16, 5.1608e-34, 1.8114e-08, 0.0000e+00, 0.0000e+00]]))"
            ]
          },
          "metadata": {},
          "execution_count": 57
        }
      ]
    },
    {
      "cell_type": "code",
      "source": [
        "# torch.bmm(batch1, batch2) --> batch 행렬곱 연산\n",
        "# 맨 앞의 batch 는 차원을 유지하면서, 뒤 요소들의 행렬 곱 연산\n",
        "\n",
        "x1 = torch.FloatTensor(10, 3, 4)\n",
        "x2 = torch.FloatTensor(10, 4, 5)\n",
        "out = torch.bmm(x1, x2)\n",
        "\n",
        "out.size()"
      ],
      "metadata": {
        "colab": {
          "base_uri": "https://localhost:8080/"
        },
        "id": "s6qgG1hUNjj1",
        "outputId": "82e45729-c750-4732-fc35-82f40fbc1a2d"
      },
      "execution_count": 58,
      "outputs": [
        {
          "output_type": "execute_result",
          "data": {
            "text/plain": [
              "torch.Size([10, 3, 5])"
            ]
          },
          "metadata": {},
          "execution_count": 58
        }
      ]
    },
    {
      "cell_type": "code",
      "source": [
        "# torch.dot(tensor1, tensor2) : 백터의 내적을 구함\n",
        "\n",
        "x1 = torch.FloatTensor([1, 2, 3, 4])\n",
        "x2 = torch.FloatTensor([2, 3, 4, 5])\n",
        "\n",
        "torch.dot(x1, x2)"
      ],
      "metadata": {
        "colab": {
          "base_uri": "https://localhost:8080/"
        },
        "id": "VoQSOZwmOJ2c",
        "outputId": "68897ae2-56bc-498c-ac73-6aed8cebd44e"
      },
      "execution_count": 60,
      "outputs": [
        {
          "output_type": "execute_result",
          "data": {
            "text/plain": [
              "tensor(40.)"
            ]
          },
          "metadata": {},
          "execution_count": 60
        }
      ]
    },
    {
      "cell_type": "code",
      "source": [
        "# torch.t(matrix) : transposed matrix (텐서의 전치 연산)\n",
        "# 행과 열을 바꿈\n",
        "\n",
        "x1 = torch.FloatTensor(3, 4)\n",
        "\n",
        "x1, x1.t()"
      ],
      "metadata": {
        "colab": {
          "base_uri": "https://localhost:8080/"
        },
        "id": "gKe3N5gKO2wt",
        "outputId": "d5c73750-72bb-400a-98f5-cd9c9a877379"
      },
      "execution_count": 63,
      "outputs": [
        {
          "output_type": "execute_result",
          "data": {
            "text/plain": [
              "(tensor([[2.0597e+06, 3.0885e-41, 4.5702e+30, 4.5155e-41],\n",
              "         [8.9683e-44, 0.0000e+00, 1.1210e-43, 0.0000e+00],\n",
              "         [3.0483e+20, 7.0065e-45, 1.3452e-43, 0.0000e+00]]),\n",
              " tensor([[2.0597e+06, 8.9683e-44, 3.0483e+20],\n",
              "         [3.0885e-41, 0.0000e+00, 7.0065e-45],\n",
              "         [4.5702e+30, 1.1210e-43, 1.3452e-43],\n",
              "         [4.5155e-41, 0.0000e+00, 0.0000e+00]]))"
            ]
          },
          "metadata": {},
          "execution_count": 63
        }
      ]
    },
    {
      "cell_type": "code",
      "source": [
        "# torch.transpose(input, dim_0, dim_2)\n",
        "# 바꿀 차원을 2개 지정함\n",
        "# 텐서 내부의 차원간 바꾸기\n",
        "\n",
        "x1 = torch.FloatTensor(10, 3, 4)\n",
        "\n",
        "# 1차원과 2차원을 서로 바꿈\n",
        "x1.size(), torch.transpose(x1, 1, 2).size(), x1.transpose(1, 2).size()"
      ],
      "metadata": {
        "colab": {
          "base_uri": "https://localhost:8080/"
        },
        "id": "m1uefCJnPuwM",
        "outputId": "90adecb6-d8e9-4bfa-e4d4-0f8c21bb0828"
      },
      "execution_count": 66,
      "outputs": [
        {
          "output_type": "execute_result",
          "data": {
            "text/plain": [
              "(torch.Size([10, 3, 4]), torch.Size([10, 4, 3]), torch.Size([10, 4, 3]))"
            ]
          },
          "metadata": {},
          "execution_count": 66
        }
      ]
    },
    {
      "cell_type": "code",
      "source": [
        "# torch,eig(input, eigenvectors=False)\n",
        "# 고유값(eigen_value), 고유벡터\n",
        "x1 = torch.FloatTensor(4, 4)\n",
        "\n",
        "import torch.linalg as linal\n",
        "\n",
        "x1, linalg.eig(x1, True)"
      ],
      "metadata": {
        "id": "eAKGsbR5QV6s"
      },
      "execution_count": null,
      "outputs": []
    }
  ]
}