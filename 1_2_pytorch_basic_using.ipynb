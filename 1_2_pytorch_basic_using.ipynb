{
  "nbformat": 4,
  "nbformat_minor": 0,
  "metadata": {
    "colab": {
      "provenance": [],
      "gpuType": "T4",
      "authorship_tag": "ABX9TyPVM2H5EwgB2yOywLWLsufq",
      "include_colab_link": true
    },
    "kernelspec": {
      "name": "python3",
      "display_name": "Python 3"
    },
    "language_info": {
      "name": "python"
    },
    "accelerator": "GPU"
  },
  "cells": [
    {
      "cell_type": "markdown",
      "metadata": {
        "id": "view-in-github",
        "colab_type": "text"
      },
      "source": [
        "<a href=\"https://colab.research.google.com/github/tpals213/ict/blob/main/1_2_pytorch_basic_using.ipynb\" target=\"_parent\"><img src=\"https://colab.research.google.com/assets/colab-badge.svg\" alt=\"Open In Colab\"/></a>"
      ]
    },
    {
      "cell_type": "markdown",
      "source": [
        "# PyTorch Tensor Basic Usage  \n",
        "\n",
        "- Create Tensor\n",
        "- Indexing, Joinging, Slicing\n",
        "- Initializaion\n",
        "- Math Operation"
      ],
      "metadata": {
        "id": "2_fNS0jpWMtv"
      }
    },
    {
      "cell_type": "code",
      "execution_count": 4,
      "metadata": {
        "colab": {
          "base_uri": "https://localhost:8080/"
        },
        "id": "82ke6IJfWBAO",
        "outputId": "6ef48206-063c-47c3-ddf1-9bb32adaddd2"
      },
      "outputs": [
        {
          "output_type": "execute_result",
          "data": {
            "text/plain": [
              "tensor([[0.6138, 0.7472, 0.0319],\n",
              "        [0.7762, 0.7777, 0.0323]])"
            ]
          },
          "metadata": {},
          "execution_count": 4
        }
      ],
      "source": [
        "# Create Tensor\n",
        "# 1) random numbers\n",
        "import torch\n",
        "\n",
        "# torch.rand(sizes) --> (0, 1) 사이의 실수형 값을 랜덤값으로 발생함\n",
        "# sizes : 1차원갯수, 2차원 행렬갯수 등 지정\n",
        "# 0과 1사이의 실수형 숫자를 균등하게 생성\n",
        "x = torch.rand(2, 3)\n",
        "x"
      ]
    },
    {
      "cell_type": "code",
      "source": [
        "# torch.randn(sizes) --> Z(0, 1)\n",
        "# 평균이 0이고 표준편차가 1인 가우시안 정규분포를 이용해서 생성\n",
        "x = torch.randn(2, 3)\n",
        "x"
      ],
      "metadata": {
        "colab": {
          "base_uri": "https://localhost:8080/"
        },
        "id": "AXvmbSpEYgy_",
        "outputId": "1d1a6758-c68a-4949-ce67-b1cb4a9ec215"
      },
      "execution_count": 5,
      "outputs": [
        {
          "output_type": "execute_result",
          "data": {
            "text/plain": [
              "tensor([[ 1.5020, -0.3568, -0.5635],\n",
              "        [ 0.8474, -0.8446, -0.1826]])"
            ]
          },
          "metadata": {},
          "execution_count": 5
        }
      ]
    },
    {
      "cell_type": "code",
      "source": [
        "# torch.randperm(n) --> permutation of 0 ~ n\n",
        "x =  torch.randperm(5)\n",
        "x"
      ],
      "metadata": {
        "colab": {
          "base_uri": "https://localhost:8080/"
        },
        "id": "q5iQX-l2ZEOf",
        "outputId": "0b4b0860-34e5-4f24-addf-4d4f240f5fb1"
      },
      "execution_count": 6,
      "outputs": [
        {
          "output_type": "execute_result",
          "data": {
            "text/plain": [
              "tensor([4, 2, 1, 3, 0])"
            ]
          },
          "metadata": {},
          "execution_count": 6
        }
      ]
    },
    {
      "cell_type": "markdown",
      "source": [
        "# torch 에서 랜덤값으로 텐서 생성\n",
        "1. torch.rand() : 0과 1 사이의 실수형 숫자 균등 생성\n",
        "2. torch.rand_like() : 사이즈를 튜플로 입력 X, 기존의 텐서로 정의\n",
        "3. torch.randn() : 평균이 0이고 표준편차가 1인 정규분포를 이용해서 생성\n",
        "4. torch.randn_like() : 기존의 텐서를 사용해서 같은 텐서를 생성\n",
        "5. torch.randint() : 주어진 범위 내의 정수를 균등하게 생성\n",
        "6. torch.randint_like() : 텐서 이용, 같은 텐서 생성\n",
        "7. torch.randperm() : 주어진 범위 내의 정수를 랜덤 생성"
      ],
      "metadata": {
        "id": "tj4Ll47QZbIX"
      }
    }
  ]
}