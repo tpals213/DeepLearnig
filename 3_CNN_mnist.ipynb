{
  "nbformat": 4,
  "nbformat_minor": 0,
  "metadata": {
    "colab": {
      "provenance": [],
      "gpuType": "T4",
      "authorship_tag": "ABX9TyNkA+nhlaZfI6Zq91EKKIbp",
      "include_colab_link": true
    },
    "kernelspec": {
      "name": "python3",
      "display_name": "Python 3"
    },
    "language_info": {
      "name": "python"
    },
    "accelerator": "GPU"
  },
  "cells": [
    {
      "cell_type": "markdown",
      "metadata": {
        "id": "view-in-github",
        "colab_type": "text"
      },
      "source": [
        "<a href=\"https://colab.research.google.com/github/tpals213/DeepLearnig/blob/main/3_CNN_mnist.ipynb\" target=\"_parent\"><img src=\"https://colab.research.google.com/assets/colab-badge.svg\" alt=\"Open In Colab\"/></a>"
      ]
    },
    {
      "cell_type": "markdown",
      "source": [
        "# Convolutional Neural Network\n",
        "- MNist data\n",
        "- 3 convolutional layers\n",
        "- 2 fully connected layers"
      ],
      "metadata": {
        "id": "89kKpPlM954I"
      }
    },
    {
      "cell_type": "code",
      "execution_count": 12,
      "metadata": {
        "id": "_4FnxQQD9sAE"
      },
      "outputs": [],
      "source": [
        "# 1. Settings\n",
        "# 1) import required libraries\n",
        "import numpy as np\n",
        "import torch\n",
        "import torch.nn as nn\n",
        "import torch.optim as optim\n",
        "import torch.nn.init as init\n",
        "import torchvision.datasets as dset\n",
        "import torchvision.transforms as transforms\n",
        "from torch.utils.data import DataLoader\n",
        "from torch.autograd import Variable, Function\n",
        "# from visdom import Visdom\n",
        "\n",
        "# vis = Visdom()"
      ]
    },
    {
      "cell_type": "code",
      "source": [
        "class Swish(Function) :\n",
        "  @staticmethod\n",
        "  def forward(ctx, i):\n",
        "    result = i * i.sigmoid()\n",
        "    ctx.save_for_backward(result, i)\n",
        "    return result\n",
        "\n",
        "  @staticmethod\n",
        "  def backward(ctx, grad_output):\n",
        "    result, i = ctx.saved_variables\n",
        "    sigmoid_x = i.sigmoid()\n",
        "    return grad_output * (result + sigmoid_x * (1 - result))\n",
        "\n",
        "swish = Swish.apply"
      ],
      "metadata": {
        "id": "gRCZsp9b_nzK"
      },
      "execution_count": 5,
      "outputs": []
    },
    {
      "cell_type": "code",
      "source": [
        "class Swish_module(nn.Module):\n",
        "  def forward(self, x):\n",
        "    return swish(x)\n",
        "\n",
        "swish_layer = Swish_module()"
      ],
      "metadata": {
        "id": "PsYR5GmlAuwr"
      },
      "execution_count": 6,
      "outputs": []
    },
    {
      "cell_type": "code",
      "source": [
        "# 2) Set hyperparameters\n",
        "\n",
        "batch_size = 256\n",
        "learning_rate = 0.0002\n",
        "num_epoch = 2"
      ],
      "metadata": {
        "id": "_GCqIKY3BGG6"
      },
      "execution_count": 7,
      "outputs": []
    },
    {
      "cell_type": "code",
      "source": [
        "# 2. Data\n",
        "# 1) Download Data\n",
        "\n",
        "mnist_train = dset.MNIST(\"./\", train=True, transform = transforms.ToTensor(), target_transform=None, download=True)\n",
        "mnist_test = dset.MNIST(\"./\", train=False, transform = transforms.ToTensor(), target_transform=None, download=True)"
      ],
      "metadata": {
        "colab": {
          "base_uri": "https://localhost:8080/"
        },
        "id": "gRx3aJGBBcUK",
        "outputId": "a55cf576-2482-4e88-a9e0-3b0bb98c8b7d"
      },
      "execution_count": 8,
      "outputs": [
        {
          "output_type": "stream",
          "name": "stdout",
          "text": [
            "Downloading http://yann.lecun.com/exdb/mnist/train-images-idx3-ubyte.gz\n",
            "Failed to download (trying next):\n",
            "HTTP Error 403: Forbidden\n",
            "\n",
            "Downloading https://ossci-datasets.s3.amazonaws.com/mnist/train-images-idx3-ubyte.gz\n",
            "Downloading https://ossci-datasets.s3.amazonaws.com/mnist/train-images-idx3-ubyte.gz to ./MNIST/raw/train-images-idx3-ubyte.gz\n"
          ]
        },
        {
          "output_type": "stream",
          "name": "stderr",
          "text": [
            "100%|██████████| 9912422/9912422 [00:01<00:00, 5124868.54it/s]\n"
          ]
        },
        {
          "output_type": "stream",
          "name": "stdout",
          "text": [
            "Extracting ./MNIST/raw/train-images-idx3-ubyte.gz to ./MNIST/raw\n",
            "\n",
            "Downloading http://yann.lecun.com/exdb/mnist/train-labels-idx1-ubyte.gz\n",
            "Failed to download (trying next):\n",
            "HTTP Error 403: Forbidden\n",
            "\n",
            "Downloading https://ossci-datasets.s3.amazonaws.com/mnist/train-labels-idx1-ubyte.gz\n",
            "Downloading https://ossci-datasets.s3.amazonaws.com/mnist/train-labels-idx1-ubyte.gz to ./MNIST/raw/train-labels-idx1-ubyte.gz\n"
          ]
        },
        {
          "output_type": "stream",
          "name": "stderr",
          "text": [
            "100%|██████████| 28881/28881 [00:00<00:00, 133912.26it/s]\n"
          ]
        },
        {
          "output_type": "stream",
          "name": "stdout",
          "text": [
            "Extracting ./MNIST/raw/train-labels-idx1-ubyte.gz to ./MNIST/raw\n",
            "\n",
            "Downloading http://yann.lecun.com/exdb/mnist/t10k-images-idx3-ubyte.gz\n",
            "Failed to download (trying next):\n",
            "HTTP Error 403: Forbidden\n",
            "\n",
            "Downloading https://ossci-datasets.s3.amazonaws.com/mnist/t10k-images-idx3-ubyte.gz\n",
            "Downloading https://ossci-datasets.s3.amazonaws.com/mnist/t10k-images-idx3-ubyte.gz to ./MNIST/raw/t10k-images-idx3-ubyte.gz\n"
          ]
        },
        {
          "output_type": "stream",
          "name": "stderr",
          "text": [
            "100%|██████████| 1648877/1648877 [00:01<00:00, 1269719.68it/s]\n"
          ]
        },
        {
          "output_type": "stream",
          "name": "stdout",
          "text": [
            "Extracting ./MNIST/raw/t10k-images-idx3-ubyte.gz to ./MNIST/raw\n",
            "\n",
            "Downloading http://yann.lecun.com/exdb/mnist/t10k-labels-idx1-ubyte.gz\n",
            "Failed to download (trying next):\n",
            "HTTP Error 403: Forbidden\n",
            "\n",
            "Downloading https://ossci-datasets.s3.amazonaws.com/mnist/t10k-labels-idx1-ubyte.gz\n",
            "Downloading https://ossci-datasets.s3.amazonaws.com/mnist/t10k-labels-idx1-ubyte.gz to ./MNIST/raw/t10k-labels-idx1-ubyte.gz\n"
          ]
        },
        {
          "output_type": "stream",
          "name": "stderr",
          "text": [
            "100%|██████████| 4542/4542 [00:00<00:00, 3177736.24it/s]"
          ]
        },
        {
          "output_type": "stream",
          "name": "stdout",
          "text": [
            "Extracting ./MNIST/raw/t10k-labels-idx1-ubyte.gz to ./MNIST/raw\n",
            "\n"
          ]
        },
        {
          "output_type": "stream",
          "name": "stderr",
          "text": [
            "\n"
          ]
        }
      ]
    },
    {
      "cell_type": "code",
      "source": [
        "# 2) Check Dataset\n",
        "print(mnist_train.__getitem__(0)[0].size(), mnist_train.__len__())\n",
        "mnist_test.__getitem__(0)[0].size(), mnist_test.__len__()"
      ],
      "metadata": {
        "colab": {
          "base_uri": "https://localhost:8080/"
        },
        "id": "B_C28VQ_CzYK",
        "outputId": "9a78ea80-237d-40da-91be-31350279ee9c"
      },
      "execution_count": 10,
      "outputs": [
        {
          "output_type": "stream",
          "name": "stdout",
          "text": [
            "torch.Size([1, 28, 28]) 60000\n"
          ]
        },
        {
          "output_type": "execute_result",
          "data": {
            "text/plain": [
              "(torch.Size([1, 28, 28]), 10000)"
            ]
          },
          "metadata": {},
          "execution_count": 10
        }
      ]
    },
    {
      "cell_type": "code",
      "source": [
        "# 3) Set DataLoader\n",
        "\n",
        "train_loader = torch.utils.data.DataLoader(mnist_train, batch_size=batch_size, shuffle=True, num_workers=2, drop_last=True)\n",
        "test_loader = torch.utils.data.DataLoader(mnist_test, batch_size=batch_size, shuffle=False, num_workers=2, drop_last=True)"
      ],
      "metadata": {
        "id": "0ghJGxcjD1Or"
      },
      "execution_count": 16,
      "outputs": []
    },
    {
      "cell_type": "code",
      "source": [
        "# 3. Model & Optimizer\n",
        "# 1) CNN Model\n",
        "\n",
        "class CNN(nn.Module):\n",
        "  def __init__(self):\n",
        "    super(CNN, self).__init__()\n",
        "    self.layer = nn.Sequential(\n",
        "        nn.Conv2d(1, 16, 5),\n",
        "        # nn.ReLU(),\n",
        "        swish_layer,\n",
        "        nn.Conv2d(16, 32, 5),\n",
        "        # nn.ReLU(),\n",
        "        swish_layer,\n",
        "        nn.MaxPool2d(2, 2),\n",
        "        nn.Conv2d(32, 64, 5),\n",
        "        # nn.ReLU(),\n",
        "        swish_layer,\n",
        "        nn.MaxPool2d(2, 2)\n",
        "    )\n",
        "    self.fc_layer = nn.Sequential(\n",
        "        nn.Linear(64 * 3 * 3, 100),\n",
        "        swish_layer,\n",
        "        nn.Linear(100, 10)\n",
        "    )\n",
        "\n",
        "  # method\n",
        "  def forward(self, x):\n",
        "    out = self.layer(x)\n",
        "    out = out.view(batch_size, -1)\n",
        "    out = self.fc_layer(out)\n",
        "\n",
        "    return out\n",
        "\n",
        "model = CNN().cuda()"
      ],
      "metadata": {
        "id": "4Kp-PDDsEjjM"
      },
      "execution_count": 19,
      "outputs": []
    },
    {
      "cell_type": "code",
      "source": [
        "# 2) Loss func & Optimizer\n",
        "\n",
        "loss_func = nn.CrossEntropyLoss()\n",
        "optimizer = torch.optim.Adam(model.parameters(), lr = learning_rate)"
      ],
      "metadata": {
        "id": "P_YOcf9_GYpE"
      },
      "execution_count": 21,
      "outputs": []
    },
    {
      "cell_type": "code",
      "source": [
        "# 4. Train\n",
        "for i in range(num_epoch):\n",
        "  for j, [image, label] in enumerate(train_loader):\n",
        "    x = Variable(image).cuda()\n",
        "    y_ = Variable(label).cuda()\n",
        "\n",
        "    optimizer.zero_grad\n",
        "    output = model.forward(x)\n",
        "    loss = loss_func(output, y_)\n",
        "    loss.backward()\n",
        "    optimizer.step()\n",
        "\n",
        "    if j & 1000 == 0:\n",
        "      print(loss)"
      ],
      "metadata": {
        "colab": {
          "base_uri": "https://localhost:8080/"
        },
        "id": "SeDp9Z04IBHl",
        "outputId": "d08b10c4-88d2-488f-bcf2-89936ec67817"
      },
      "execution_count": 22,
      "outputs": [
        {
          "output_type": "stream",
          "name": "stderr",
          "text": [
            "<ipython-input-5-fd1a855e87c9>:10: DeprecationWarning: 'saved_variables' is deprecated; use 'saved_tensors'\n",
            "  result, i = ctx.saved_variables\n"
          ]
        },
        {
          "output_type": "stream",
          "name": "stdout",
          "text": [
            "tensor(2.3025, device='cuda:0', grad_fn=<NllLossBackward0>)\n",
            "tensor(2.3047, device='cuda:0', grad_fn=<NllLossBackward0>)\n",
            "tensor(2.3049, device='cuda:0', grad_fn=<NllLossBackward0>)\n",
            "tensor(2.2987, device='cuda:0', grad_fn=<NllLossBackward0>)\n",
            "tensor(2.2996, device='cuda:0', grad_fn=<NllLossBackward0>)\n",
            "tensor(2.3024, device='cuda:0', grad_fn=<NllLossBackward0>)\n",
            "tensor(2.2989, device='cuda:0', grad_fn=<NllLossBackward0>)\n",
            "tensor(2.2984, device='cuda:0', grad_fn=<NllLossBackward0>)\n",
            "tensor(2.2814, device='cuda:0', grad_fn=<NllLossBackward0>)\n",
            "tensor(2.2746, device='cuda:0', grad_fn=<NllLossBackward0>)\n",
            "tensor(2.2764, device='cuda:0', grad_fn=<NllLossBackward0>)\n",
            "tensor(2.2739, device='cuda:0', grad_fn=<NllLossBackward0>)\n",
            "tensor(2.2649, device='cuda:0', grad_fn=<NllLossBackward0>)\n",
            "tensor(2.2644, device='cuda:0', grad_fn=<NllLossBackward0>)\n",
            "tensor(2.2528, device='cuda:0', grad_fn=<NllLossBackward0>)\n",
            "tensor(2.2555, device='cuda:0', grad_fn=<NllLossBackward0>)\n",
            "tensor(0.9391, device='cuda:0', grad_fn=<NllLossBackward0>)\n",
            "tensor(0.8879, device='cuda:0', grad_fn=<NllLossBackward0>)\n",
            "tensor(1.0255, device='cuda:0', grad_fn=<NllLossBackward0>)\n",
            "tensor(1.0976, device='cuda:0', grad_fn=<NllLossBackward0>)\n",
            "tensor(1.0424, device='cuda:0', grad_fn=<NllLossBackward0>)\n",
            "tensor(1.3010, device='cuda:0', grad_fn=<NllLossBackward0>)\n",
            "tensor(1.1157, device='cuda:0', grad_fn=<NllLossBackward0>)\n",
            "tensor(1.5111, device='cuda:0', grad_fn=<NllLossBackward0>)\n",
            "tensor(1.2734, device='cuda:0', grad_fn=<NllLossBackward0>)\n",
            "tensor(1.4936, device='cuda:0', grad_fn=<NllLossBackward0>)\n",
            "tensor(1.4670, device='cuda:0', grad_fn=<NllLossBackward0>)\n",
            "tensor(1.4414, device='cuda:0', grad_fn=<NllLossBackward0>)\n",
            "tensor(1.4244, device='cuda:0', grad_fn=<NllLossBackward0>)\n",
            "tensor(0.9069, device='cuda:0', grad_fn=<NllLossBackward0>)\n",
            "tensor(1.1162, device='cuda:0', grad_fn=<NllLossBackward0>)\n",
            "tensor(1.5883, device='cuda:0', grad_fn=<NllLossBackward0>)\n"
          ]
        }
      ]
    },
    {
      "cell_type": "code",
      "source": [
        "# 5. Test\n",
        "\n",
        "correct = 0\n",
        "total = 0\n",
        "\n",
        "for image, label in test_loader:\n",
        "  x = Variable(image, volatile=True).cuda()\n",
        "  y_ = Variable(label).cuda()\n",
        "\n",
        "  output = model.forward(x)\n",
        "  _, output_index = torch.max(output, 1)\n",
        "\n",
        "  total += label.size(0)\n",
        "  correct += (output_index == y_).sum().float()\n",
        "\n",
        "print(\"Accuracy of Test Data : {}\".format(100 * correct / total) )"
      ],
      "metadata": {
        "colab": {
          "base_uri": "https://localhost:8080/"
        },
        "id": "MoZxI6akI53L",
        "outputId": "ade49c28-3f63-40ed-94b4-c1a976e06bb9"
      },
      "execution_count": 23,
      "outputs": [
        {
          "output_type": "stream",
          "name": "stderr",
          "text": [
            "<ipython-input-23-ad54b40d70ad>:7: UserWarning: volatile was removed and now has no effect. Use `with torch.no_grad():` instead.\n",
            "  x = Variable(image, volatile=True).cuda()\n"
          ]
        },
        {
          "output_type": "stream",
          "name": "stdout",
          "text": [
            "Accuracy of Test Data : 84.62540435791016\n"
          ]
        }
      ]
    }
  ]
}