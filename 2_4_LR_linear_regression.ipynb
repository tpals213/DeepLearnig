{
  "nbformat": 4,
  "nbformat_minor": 0,
  "metadata": {
    "colab": {
      "provenance": [],
      "gpuType": "T4",
      "authorship_tag": "ABX9TyOeu/geMxS+ZiyQys9xusdL",
      "include_colab_link": true
    },
    "kernelspec": {
      "name": "python3",
      "display_name": "Python 3"
    },
    "language_info": {
      "name": "python"
    },
    "accelerator": "GPU"
  },
  "cells": [
    {
      "cell_type": "markdown",
      "metadata": {
        "id": "view-in-github",
        "colab_type": "text"
      },
      "source": [
        "<a href=\"https://colab.research.google.com/github/tpals213/DeepLearnig/blob/main/2_4_LR_linear_regression.ipynb\" target=\"_parent\"><img src=\"https://colab.research.google.com/assets/colab-badge.svg\" alt=\"Open In Colab\"/></a>"
      ]
    },
    {
      "cell_type": "markdown",
      "source": [
        "# Linear Regression 선형회귀\n",
        "- Linear Data\n",
        "- Linear Model\n",
        "\n",
        "**1. Import Reqeires Libraris**"
      ],
      "metadata": {
        "id": "Inr7XmhtMhf1"
      }
    },
    {
      "cell_type": "code",
      "execution_count": 1,
      "metadata": {
        "id": "DJ6U22qdMckP"
      },
      "outputs": [],
      "source": [
        "import numpy as np\n",
        "import torch\n",
        "import torch.nn as nn\n",
        "import torch.optim as optim\n",
        "import torch.nn.init as init\n",
        "from torch.autograd import Variable"
      ]
    },
    {
      "cell_type": "markdown",
      "source": [
        "**2. Generate Data**"
      ],
      "metadata": {
        "id": "o2can0WtN0EV"
      }
    },
    {
      "cell_type": "code",
      "source": [
        "num_data = 1000   # 데이터 갯수\n",
        "num_epoch = 1000  # 훈련횟수\n",
        "\n",
        "noise = init.normal_(torch.FloatTensor(num_data, 1), std=1)\n",
        "x = init.uniform_(torch.Tensor(num_data, 1), -10, 10)\n",
        "\n",
        "# y= wx + b => y = 2x + 3\n",
        "y = 2*x + 3\n",
        "y_noise = 2*x + 3 + noise\n",
        "\n",
        "x.size (), y.size()"
      ],
      "metadata": {
        "colab": {
          "base_uri": "https://localhost:8080/"
        },
        "id": "BvgRI2PwN3fE",
        "outputId": "73df380c-5831-46f6-9d5a-364b59436be5"
      },
      "execution_count": 2,
      "outputs": [
        {
          "output_type": "execute_result",
          "data": {
            "text/plain": [
              "(torch.Size([1000, 1]), torch.Size([1000, 1]))"
            ]
          },
          "metadata": {},
          "execution_count": 2
        }
      ]
    },
    {
      "cell_type": "markdown",
      "source": [
        "**3. Model & Optimizer**"
      ],
      "metadata": {
        "id": "l1s_5USJQGjs"
      }
    },
    {
      "cell_type": "code",
      "source": [
        "# 단순 선형 회귀 생성 및 초기화\n",
        "# input_dim = 1, output_dim=1\n",
        "model = nn.Linear(1, 1)\n",
        "output = model(Variable(x))\n",
        "\n",
        "loss_func = nn.MSELoss()\n",
        "optimizer = optim.SGD(model.parameters(), lr=0.01)\n",
        "# lr (Learnig Rate) : 미분값을 얼마만큼 이동시킬 것인지를 결정\n",
        "# 최적화 알고리즘 : loss(오차) 를 줄이는 알고리즘\n",
        "# SGD : loss 의 미분을 이용해서 loss 의 최소값을 찾는 알고리즘에 해당"
      ],
      "metadata": {
        "id": "04xRTOeZQL2k"
      },
      "execution_count": 3,
      "outputs": []
    },
    {
      "cell_type": "markdown",
      "source": [
        "**4. Train**"
      ],
      "metadata": {
        "id": "vGwjkoXLTXKN"
      }
    },
    {
      "cell_type": "code",
      "source": [
        "loss_arr = []\n",
        "label = Variable(y_noise)\n",
        "for i in range(num_epoch):\n",
        "  optimizer.zero_grad()\n",
        "  output = model(Variable(x))\n",
        "\n",
        "  loss = loss_func(output, label)\n",
        "  optimizer.step()\n",
        "\n",
        "  if i & 10 == 0 :\n",
        "    print(loss)\n",
        "\n",
        "  loss_arr.append(loss.data.numpy())"
      ],
      "metadata": {
        "colab": {
          "base_uri": "https://localhost:8080/"
        },
        "id": "vrrKnuJeTkkb",
        "outputId": "c774c599-9e4a-4bdb-88e8-f5171664abcf"
      },
      "execution_count": 4,
      "outputs": [
        {
          "output_type": "stream",
          "name": "stdout",
          "text": [
            "tensor(105.5652, grad_fn=<MseLossBackward0>)\n",
            "tensor(105.5652, grad_fn=<MseLossBackward0>)\n",
            "tensor(105.5652, grad_fn=<MseLossBackward0>)\n",
            "tensor(105.5652, grad_fn=<MseLossBackward0>)\n",
            "tensor(105.5652, grad_fn=<MseLossBackward0>)\n",
            "tensor(105.5652, grad_fn=<MseLossBackward0>)\n",
            "tensor(105.5652, grad_fn=<MseLossBackward0>)\n",
            "tensor(105.5652, grad_fn=<MseLossBackward0>)\n",
            "tensor(105.5652, grad_fn=<MseLossBackward0>)\n",
            "tensor(105.5652, grad_fn=<MseLossBackward0>)\n",
            "tensor(105.5652, grad_fn=<MseLossBackward0>)\n",
            "tensor(105.5652, grad_fn=<MseLossBackward0>)\n",
            "tensor(105.5652, grad_fn=<MseLossBackward0>)\n",
            "tensor(105.5652, grad_fn=<MseLossBackward0>)\n",
            "tensor(105.5652, grad_fn=<MseLossBackward0>)\n",
            "tensor(105.5652, grad_fn=<MseLossBackward0>)\n",
            "tensor(105.5652, grad_fn=<MseLossBackward0>)\n",
            "tensor(105.5652, grad_fn=<MseLossBackward0>)\n",
            "tensor(105.5652, grad_fn=<MseLossBackward0>)\n",
            "tensor(105.5652, grad_fn=<MseLossBackward0>)\n",
            "tensor(105.5652, grad_fn=<MseLossBackward0>)\n",
            "tensor(105.5652, grad_fn=<MseLossBackward0>)\n",
            "tensor(105.5652, grad_fn=<MseLossBackward0>)\n",
            "tensor(105.5652, grad_fn=<MseLossBackward0>)\n",
            "tensor(105.5652, grad_fn=<MseLossBackward0>)\n",
            "tensor(105.5652, grad_fn=<MseLossBackward0>)\n",
            "tensor(105.5652, grad_fn=<MseLossBackward0>)\n",
            "tensor(105.5652, grad_fn=<MseLossBackward0>)\n",
            "tensor(105.5652, grad_fn=<MseLossBackward0>)\n",
            "tensor(105.5652, grad_fn=<MseLossBackward0>)\n",
            "tensor(105.5652, grad_fn=<MseLossBackward0>)\n",
            "tensor(105.5652, grad_fn=<MseLossBackward0>)\n",
            "tensor(105.5652, grad_fn=<MseLossBackward0>)\n",
            "tensor(105.5652, grad_fn=<MseLossBackward0>)\n",
            "tensor(105.5652, grad_fn=<MseLossBackward0>)\n",
            "tensor(105.5652, grad_fn=<MseLossBackward0>)\n",
            "tensor(105.5652, grad_fn=<MseLossBackward0>)\n",
            "tensor(105.5652, grad_fn=<MseLossBackward0>)\n",
            "tensor(105.5652, grad_fn=<MseLossBackward0>)\n",
            "tensor(105.5652, grad_fn=<MseLossBackward0>)\n",
            "tensor(105.5652, grad_fn=<MseLossBackward0>)\n",
            "tensor(105.5652, grad_fn=<MseLossBackward0>)\n",
            "tensor(105.5652, grad_fn=<MseLossBackward0>)\n",
            "tensor(105.5652, grad_fn=<MseLossBackward0>)\n",
            "tensor(105.5652, grad_fn=<MseLossBackward0>)\n",
            "tensor(105.5652, grad_fn=<MseLossBackward0>)\n",
            "tensor(105.5652, grad_fn=<MseLossBackward0>)\n",
            "tensor(105.5652, grad_fn=<MseLossBackward0>)\n",
            "tensor(105.5652, grad_fn=<MseLossBackward0>)\n",
            "tensor(105.5652, grad_fn=<MseLossBackward0>)\n",
            "tensor(105.5652, grad_fn=<MseLossBackward0>)\n",
            "tensor(105.5652, grad_fn=<MseLossBackward0>)\n",
            "tensor(105.5652, grad_fn=<MseLossBackward0>)\n",
            "tensor(105.5652, grad_fn=<MseLossBackward0>)\n",
            "tensor(105.5652, grad_fn=<MseLossBackward0>)\n",
            "tensor(105.5652, grad_fn=<MseLossBackward0>)\n",
            "tensor(105.5652, grad_fn=<MseLossBackward0>)\n",
            "tensor(105.5652, grad_fn=<MseLossBackward0>)\n",
            "tensor(105.5652, grad_fn=<MseLossBackward0>)\n",
            "tensor(105.5652, grad_fn=<MseLossBackward0>)\n",
            "tensor(105.5652, grad_fn=<MseLossBackward0>)\n",
            "tensor(105.5652, grad_fn=<MseLossBackward0>)\n",
            "tensor(105.5652, grad_fn=<MseLossBackward0>)\n",
            "tensor(105.5652, grad_fn=<MseLossBackward0>)\n",
            "tensor(105.5652, grad_fn=<MseLossBackward0>)\n",
            "tensor(105.5652, grad_fn=<MseLossBackward0>)\n",
            "tensor(105.5652, grad_fn=<MseLossBackward0>)\n",
            "tensor(105.5652, grad_fn=<MseLossBackward0>)\n",
            "tensor(105.5652, grad_fn=<MseLossBackward0>)\n",
            "tensor(105.5652, grad_fn=<MseLossBackward0>)\n",
            "tensor(105.5652, grad_fn=<MseLossBackward0>)\n",
            "tensor(105.5652, grad_fn=<MseLossBackward0>)\n",
            "tensor(105.5652, grad_fn=<MseLossBackward0>)\n",
            "tensor(105.5652, grad_fn=<MseLossBackward0>)\n",
            "tensor(105.5652, grad_fn=<MseLossBackward0>)\n",
            "tensor(105.5652, grad_fn=<MseLossBackward0>)\n",
            "tensor(105.5652, grad_fn=<MseLossBackward0>)\n",
            "tensor(105.5652, grad_fn=<MseLossBackward0>)\n",
            "tensor(105.5652, grad_fn=<MseLossBackward0>)\n",
            "tensor(105.5652, grad_fn=<MseLossBackward0>)\n",
            "tensor(105.5652, grad_fn=<MseLossBackward0>)\n",
            "tensor(105.5652, grad_fn=<MseLossBackward0>)\n",
            "tensor(105.5652, grad_fn=<MseLossBackward0>)\n",
            "tensor(105.5652, grad_fn=<MseLossBackward0>)\n",
            "tensor(105.5652, grad_fn=<MseLossBackward0>)\n",
            "tensor(105.5652, grad_fn=<MseLossBackward0>)\n",
            "tensor(105.5652, grad_fn=<MseLossBackward0>)\n",
            "tensor(105.5652, grad_fn=<MseLossBackward0>)\n",
            "tensor(105.5652, grad_fn=<MseLossBackward0>)\n",
            "tensor(105.5652, grad_fn=<MseLossBackward0>)\n",
            "tensor(105.5652, grad_fn=<MseLossBackward0>)\n",
            "tensor(105.5652, grad_fn=<MseLossBackward0>)\n",
            "tensor(105.5652, grad_fn=<MseLossBackward0>)\n",
            "tensor(105.5652, grad_fn=<MseLossBackward0>)\n",
            "tensor(105.5652, grad_fn=<MseLossBackward0>)\n",
            "tensor(105.5652, grad_fn=<MseLossBackward0>)\n",
            "tensor(105.5652, grad_fn=<MseLossBackward0>)\n",
            "tensor(105.5652, grad_fn=<MseLossBackward0>)\n",
            "tensor(105.5652, grad_fn=<MseLossBackward0>)\n",
            "tensor(105.5652, grad_fn=<MseLossBackward0>)\n",
            "tensor(105.5652, grad_fn=<MseLossBackward0>)\n",
            "tensor(105.5652, grad_fn=<MseLossBackward0>)\n",
            "tensor(105.5652, grad_fn=<MseLossBackward0>)\n",
            "tensor(105.5652, grad_fn=<MseLossBackward0>)\n",
            "tensor(105.5652, grad_fn=<MseLossBackward0>)\n",
            "tensor(105.5652, grad_fn=<MseLossBackward0>)\n",
            "tensor(105.5652, grad_fn=<MseLossBackward0>)\n",
            "tensor(105.5652, grad_fn=<MseLossBackward0>)\n",
            "tensor(105.5652, grad_fn=<MseLossBackward0>)\n",
            "tensor(105.5652, grad_fn=<MseLossBackward0>)\n",
            "tensor(105.5652, grad_fn=<MseLossBackward0>)\n",
            "tensor(105.5652, grad_fn=<MseLossBackward0>)\n",
            "tensor(105.5652, grad_fn=<MseLossBackward0>)\n",
            "tensor(105.5652, grad_fn=<MseLossBackward0>)\n",
            "tensor(105.5652, grad_fn=<MseLossBackward0>)\n",
            "tensor(105.5652, grad_fn=<MseLossBackward0>)\n",
            "tensor(105.5652, grad_fn=<MseLossBackward0>)\n",
            "tensor(105.5652, grad_fn=<MseLossBackward0>)\n",
            "tensor(105.5652, grad_fn=<MseLossBackward0>)\n",
            "tensor(105.5652, grad_fn=<MseLossBackward0>)\n",
            "tensor(105.5652, grad_fn=<MseLossBackward0>)\n",
            "tensor(105.5652, grad_fn=<MseLossBackward0>)\n",
            "tensor(105.5652, grad_fn=<MseLossBackward0>)\n",
            "tensor(105.5652, grad_fn=<MseLossBackward0>)\n",
            "tensor(105.5652, grad_fn=<MseLossBackward0>)\n",
            "tensor(105.5652, grad_fn=<MseLossBackward0>)\n",
            "tensor(105.5652, grad_fn=<MseLossBackward0>)\n",
            "tensor(105.5652, grad_fn=<MseLossBackward0>)\n",
            "tensor(105.5652, grad_fn=<MseLossBackward0>)\n",
            "tensor(105.5652, grad_fn=<MseLossBackward0>)\n",
            "tensor(105.5652, grad_fn=<MseLossBackward0>)\n",
            "tensor(105.5652, grad_fn=<MseLossBackward0>)\n",
            "tensor(105.5652, grad_fn=<MseLossBackward0>)\n",
            "tensor(105.5652, grad_fn=<MseLossBackward0>)\n",
            "tensor(105.5652, grad_fn=<MseLossBackward0>)\n",
            "tensor(105.5652, grad_fn=<MseLossBackward0>)\n",
            "tensor(105.5652, grad_fn=<MseLossBackward0>)\n",
            "tensor(105.5652, grad_fn=<MseLossBackward0>)\n",
            "tensor(105.5652, grad_fn=<MseLossBackward0>)\n",
            "tensor(105.5652, grad_fn=<MseLossBackward0>)\n",
            "tensor(105.5652, grad_fn=<MseLossBackward0>)\n",
            "tensor(105.5652, grad_fn=<MseLossBackward0>)\n",
            "tensor(105.5652, grad_fn=<MseLossBackward0>)\n",
            "tensor(105.5652, grad_fn=<MseLossBackward0>)\n",
            "tensor(105.5652, grad_fn=<MseLossBackward0>)\n",
            "tensor(105.5652, grad_fn=<MseLossBackward0>)\n",
            "tensor(105.5652, grad_fn=<MseLossBackward0>)\n",
            "tensor(105.5652, grad_fn=<MseLossBackward0>)\n",
            "tensor(105.5652, grad_fn=<MseLossBackward0>)\n",
            "tensor(105.5652, grad_fn=<MseLossBackward0>)\n",
            "tensor(105.5652, grad_fn=<MseLossBackward0>)\n",
            "tensor(105.5652, grad_fn=<MseLossBackward0>)\n",
            "tensor(105.5652, grad_fn=<MseLossBackward0>)\n",
            "tensor(105.5652, grad_fn=<MseLossBackward0>)\n",
            "tensor(105.5652, grad_fn=<MseLossBackward0>)\n",
            "tensor(105.5652, grad_fn=<MseLossBackward0>)\n",
            "tensor(105.5652, grad_fn=<MseLossBackward0>)\n",
            "tensor(105.5652, grad_fn=<MseLossBackward0>)\n",
            "tensor(105.5652, grad_fn=<MseLossBackward0>)\n",
            "tensor(105.5652, grad_fn=<MseLossBackward0>)\n",
            "tensor(105.5652, grad_fn=<MseLossBackward0>)\n",
            "tensor(105.5652, grad_fn=<MseLossBackward0>)\n",
            "tensor(105.5652, grad_fn=<MseLossBackward0>)\n",
            "tensor(105.5652, grad_fn=<MseLossBackward0>)\n",
            "tensor(105.5652, grad_fn=<MseLossBackward0>)\n",
            "tensor(105.5652, grad_fn=<MseLossBackward0>)\n",
            "tensor(105.5652, grad_fn=<MseLossBackward0>)\n",
            "tensor(105.5652, grad_fn=<MseLossBackward0>)\n",
            "tensor(105.5652, grad_fn=<MseLossBackward0>)\n",
            "tensor(105.5652, grad_fn=<MseLossBackward0>)\n",
            "tensor(105.5652, grad_fn=<MseLossBackward0>)\n",
            "tensor(105.5652, grad_fn=<MseLossBackward0>)\n",
            "tensor(105.5652, grad_fn=<MseLossBackward0>)\n",
            "tensor(105.5652, grad_fn=<MseLossBackward0>)\n",
            "tensor(105.5652, grad_fn=<MseLossBackward0>)\n",
            "tensor(105.5652, grad_fn=<MseLossBackward0>)\n",
            "tensor(105.5652, grad_fn=<MseLossBackward0>)\n",
            "tensor(105.5652, grad_fn=<MseLossBackward0>)\n",
            "tensor(105.5652, grad_fn=<MseLossBackward0>)\n",
            "tensor(105.5652, grad_fn=<MseLossBackward0>)\n",
            "tensor(105.5652, grad_fn=<MseLossBackward0>)\n",
            "tensor(105.5652, grad_fn=<MseLossBackward0>)\n",
            "tensor(105.5652, grad_fn=<MseLossBackward0>)\n",
            "tensor(105.5652, grad_fn=<MseLossBackward0>)\n",
            "tensor(105.5652, grad_fn=<MseLossBackward0>)\n",
            "tensor(105.5652, grad_fn=<MseLossBackward0>)\n",
            "tensor(105.5652, grad_fn=<MseLossBackward0>)\n",
            "tensor(105.5652, grad_fn=<MseLossBackward0>)\n",
            "tensor(105.5652, grad_fn=<MseLossBackward0>)\n",
            "tensor(105.5652, grad_fn=<MseLossBackward0>)\n",
            "tensor(105.5652, grad_fn=<MseLossBackward0>)\n",
            "tensor(105.5652, grad_fn=<MseLossBackward0>)\n",
            "tensor(105.5652, grad_fn=<MseLossBackward0>)\n",
            "tensor(105.5652, grad_fn=<MseLossBackward0>)\n",
            "tensor(105.5652, grad_fn=<MseLossBackward0>)\n",
            "tensor(105.5652, grad_fn=<MseLossBackward0>)\n",
            "tensor(105.5652, grad_fn=<MseLossBackward0>)\n",
            "tensor(105.5652, grad_fn=<MseLossBackward0>)\n",
            "tensor(105.5652, grad_fn=<MseLossBackward0>)\n",
            "tensor(105.5652, grad_fn=<MseLossBackward0>)\n",
            "tensor(105.5652, grad_fn=<MseLossBackward0>)\n",
            "tensor(105.5652, grad_fn=<MseLossBackward0>)\n",
            "tensor(105.5652, grad_fn=<MseLossBackward0>)\n",
            "tensor(105.5652, grad_fn=<MseLossBackward0>)\n",
            "tensor(105.5652, grad_fn=<MseLossBackward0>)\n",
            "tensor(105.5652, grad_fn=<MseLossBackward0>)\n",
            "tensor(105.5652, grad_fn=<MseLossBackward0>)\n",
            "tensor(105.5652, grad_fn=<MseLossBackward0>)\n",
            "tensor(105.5652, grad_fn=<MseLossBackward0>)\n",
            "tensor(105.5652, grad_fn=<MseLossBackward0>)\n",
            "tensor(105.5652, grad_fn=<MseLossBackward0>)\n",
            "tensor(105.5652, grad_fn=<MseLossBackward0>)\n",
            "tensor(105.5652, grad_fn=<MseLossBackward0>)\n",
            "tensor(105.5652, grad_fn=<MseLossBackward0>)\n",
            "tensor(105.5652, grad_fn=<MseLossBackward0>)\n",
            "tensor(105.5652, grad_fn=<MseLossBackward0>)\n",
            "tensor(105.5652, grad_fn=<MseLossBackward0>)\n",
            "tensor(105.5652, grad_fn=<MseLossBackward0>)\n",
            "tensor(105.5652, grad_fn=<MseLossBackward0>)\n",
            "tensor(105.5652, grad_fn=<MseLossBackward0>)\n",
            "tensor(105.5652, grad_fn=<MseLossBackward0>)\n",
            "tensor(105.5652, grad_fn=<MseLossBackward0>)\n",
            "tensor(105.5652, grad_fn=<MseLossBackward0>)\n",
            "tensor(105.5652, grad_fn=<MseLossBackward0>)\n",
            "tensor(105.5652, grad_fn=<MseLossBackward0>)\n",
            "tensor(105.5652, grad_fn=<MseLossBackward0>)\n",
            "tensor(105.5652, grad_fn=<MseLossBackward0>)\n",
            "tensor(105.5652, grad_fn=<MseLossBackward0>)\n",
            "tensor(105.5652, grad_fn=<MseLossBackward0>)\n",
            "tensor(105.5652, grad_fn=<MseLossBackward0>)\n",
            "tensor(105.5652, grad_fn=<MseLossBackward0>)\n",
            "tensor(105.5652, grad_fn=<MseLossBackward0>)\n",
            "tensor(105.5652, grad_fn=<MseLossBackward0>)\n",
            "tensor(105.5652, grad_fn=<MseLossBackward0>)\n",
            "tensor(105.5652, grad_fn=<MseLossBackward0>)\n",
            "tensor(105.5652, grad_fn=<MseLossBackward0>)\n",
            "tensor(105.5652, grad_fn=<MseLossBackward0>)\n",
            "tensor(105.5652, grad_fn=<MseLossBackward0>)\n",
            "tensor(105.5652, grad_fn=<MseLossBackward0>)\n",
            "tensor(105.5652, grad_fn=<MseLossBackward0>)\n",
            "tensor(105.5652, grad_fn=<MseLossBackward0>)\n",
            "tensor(105.5652, grad_fn=<MseLossBackward0>)\n",
            "tensor(105.5652, grad_fn=<MseLossBackward0>)\n",
            "tensor(105.5652, grad_fn=<MseLossBackward0>)\n",
            "tensor(105.5652, grad_fn=<MseLossBackward0>)\n",
            "tensor(105.5652, grad_fn=<MseLossBackward0>)\n",
            "tensor(105.5652, grad_fn=<MseLossBackward0>)\n",
            "tensor(105.5652, grad_fn=<MseLossBackward0>)\n",
            "tensor(105.5652, grad_fn=<MseLossBackward0>)\n",
            "tensor(105.5652, grad_fn=<MseLossBackward0>)\n",
            "tensor(105.5652, grad_fn=<MseLossBackward0>)\n",
            "tensor(105.5652, grad_fn=<MseLossBackward0>)\n"
          ]
        }
      ]
    },
    {
      "cell_type": "markdown",
      "source": [
        "**visdom usage**"
      ],
      "metadata": {
        "id": "Bdj-X-XcYE-i"
      }
    },
    {
      "cell_type": "code",
      "source": [
        "! npm install -g localtunnel\n",
        "get_ipython().system_raw('/usr/local/bin/python -m pip install visdom')\n",
        "get_ipython().system_raw('/usr/local/bin/python -m visdom.server -port 6006 >> visdomlog.txt 2>&1 &')\n",
        "get_ipython().system_raw('lt --port 6006 >> url.txt 2>&1 &')"
      ],
      "metadata": {
        "colab": {
          "base_uri": "https://localhost:8080/"
        },
        "id": "p3HGgIdBYJLq",
        "outputId": "73576074-8556-45e2-bce1-7bb9d3ead285"
      },
      "execution_count": 5,
      "outputs": [
        {
          "output_type": "stream",
          "name": "stdout",
          "text": [
            "\u001b[K\u001b[?25h/tools/node/bin/lt -> /tools/node/lib/node_modules/localtunnel/bin/lt.js\n",
            "+ localtunnel@2.0.2\n",
            "added 22 packages from 22 contributors in 2.552s\n"
          ]
        }
      ]
    },
    {
      "cell_type": "code",
      "source": [
        "import time\n",
        "time.sleep(5)\n",
        "! cat url.txt\n",
        "\n",
        "import visdom\n",
        "time.sleep(5)\n",
        "vis = visdom.Visdom(port='6006')\n",
        "print(vis)\n",
        "time.sleep(3)\n",
        "vis.text('testing')\n",
        "! cat visdomlog.txt"
      ],
      "metadata": {
        "colab": {
          "base_uri": "https://localhost:8080/"
        },
        "id": "Kiu6FhdCYf30",
        "outputId": "f3cefeb4-97e8-4696-9bc5-0b5c5cc12a79"
      },
      "execution_count": 6,
      "outputs": [
        {
          "output_type": "stream",
          "name": "stdout",
          "text": [
            "your url is: https://beige-pots-suffer.loca.lt\n"
          ]
        },
        {
          "output_type": "stream",
          "name": "stderr",
          "text": [
            "WARNING:visdom:Setting up a new session...\n"
          ]
        },
        {
          "output_type": "stream",
          "name": "stdout",
          "text": [
            "<visdom.Visdom object at 0x7fbddb718160>\n",
            "INFO:root:Application Started\n",
            "INFO:root:Working directory: /root/.visdom\n",
            "INFO:tornado.access:200 POST /env/main (127.0.0.1) 0.77ms\n",
            "INFO:tornado.access:101 GET /vis_socket (127.0.0.1) 0.63ms\n",
            "INFO:root:Opened visdom socket from ip: 127.0.0.1\n",
            "INFO:tornado.access:200 POST /events (127.0.0.1) 0.68ms\n"
          ]
        }
      ]
    },
    {
      "cell_type": "markdown",
      "source": [
        "**터널 ip를 조회해서 visdom 의 패스워드로 사용**"
      ],
      "metadata": {
        "id": "FW_Q4ioXZHMD"
      }
    },
    {
      "cell_type": "code",
      "source": [
        "import urllib\n",
        "print(\"Password/Enpoint IP for localtunnel is:\",urllib.request.urlopen('https://ipv4.icanhazip.com').read().decode('utf8').strip(\"\\n\"))"
      ],
      "metadata": {
        "colab": {
          "base_uri": "https://localhost:8080/"
        },
        "id": "Yi3VRqMsX2Wj",
        "outputId": "654f59cb-fdc8-4587-be62-efa14e93ee8c"
      },
      "execution_count": 7,
      "outputs": [
        {
          "output_type": "stream",
          "name": "stdout",
          "text": [
            "Password/Enpoint IP for localtunnel is: 34.75.99.184\n"
          ]
        }
      ]
    },
    {
      "cell_type": "markdown",
      "source": [
        "**visualize data with visdom**"
      ],
      "metadata": {
        "id": "BNBOL7R7Jx-G"
      }
    },
    {
      "cell_type": "code",
      "source": [
        "input_data = torch.cat([x, y_noise], 1)\n",
        "\n",
        "win = vis.scatter(\n",
        "    X=input_data,\n",
        "    opts=dict(\n",
        "        xtickmin=-10,\n",
        "        xtmax=10,\n",
        "        xtickstep=1,\n",
        "        ytickmin=-20,\n",
        "        ytickmax=20,\n",
        "        ytickstep=1,\n",
        "        markersymbol='dot',\n",
        "        markersize=5,\n",
        "        markercolor=np.random.randint(0, 255, num_data)\n",
        "    ),\n",
        ")"
      ],
      "metadata": {
        "id": "CiBj9wHNZ6L7"
      },
      "execution_count": 9,
      "outputs": []
    },
    {
      "cell_type": "markdown",
      "source": [
        "**5. Check Trained Parameters**"
      ],
      "metadata": {
        "id": "Uf0mWJKiLnz1"
      }
    },
    {
      "cell_type": "code",
      "source": [
        "param_list = list(model.parameters())\n",
        "print(param_list[0].data, param_list[1].data)"
      ],
      "metadata": {
        "colab": {
          "base_uri": "https://localhost:8080/"
        },
        "id": "CVfXmoUiLwuV",
        "outputId": "59cce17b-5678-455e-d72c-aaf35d1a5baf"
      },
      "execution_count": 10,
      "outputs": [
        {
          "output_type": "stream",
          "name": "stdout",
          "text": [
            "tensor([[0.3548]]) tensor([0.2374])\n"
          ]
        }
      ]
    },
    {
      "cell_type": "markdown",
      "source": [
        "**6. Visualize output**"
      ],
      "metadata": {
        "id": "McCoImT-MPtF"
      }
    },
    {
      "cell_type": "code",
      "source": [
        "win_2 = vis.scatter(\n",
        "    X=input_data,\n",
        "    opts=dict(\n",
        "        xtickmin=-10,\n",
        "        xtmax=10,\n",
        "        xtickstep=1,\n",
        "        ytickmin=-20,\n",
        "        ytickmax=20,\n",
        "        ytickstep=1,\n",
        "        markersymbol='dot',\n",
        "        markersize=5,\n",
        "        markercolor=np.random.randint(0, 255, num_data)\n",
        "    ),\n",
        ")\n",
        "\n",
        "vis.line(\n",
        "    X=x.reshape(x.shape[0]),\n",
        "    Y=output.data.reshape(output.data.shape[0]),\n",
        "    win=win_2,\n",
        "    opts=dict(\n",
        "        xtickmin=-15,\n",
        "        xtickmax=10,\n",
        "        xtickstep=1,\n",
        "        ytickmin=-300,\n",
        "        ytickmax=200,\n",
        "        ytickstep=1,\n",
        "        markersymbol='dot',\n",
        "    ),\n",
        ")"
      ],
      "metadata": {
        "colab": {
          "base_uri": "https://localhost:8080/",
          "height": 35
        },
        "id": "9i2Nn0lyMPBc",
        "outputId": "9a55717a-356c-46a8-9198-5a0d62a15b64"
      },
      "execution_count": 12,
      "outputs": [
        {
          "output_type": "execute_result",
          "data": {
            "text/plain": [
              "'window_3d011914619d4a'"
            ],
            "application/vnd.google.colaboratory.intrinsic+json": {
              "type": "string"
            }
          },
          "metadata": {},
          "execution_count": 12
        }
      ]
    },
    {
      "cell_type": "markdown",
      "source": [
        "**7. Visualize Loss Graph**"
      ],
      "metadata": {
        "id": "8cyVL1YNN7wc"
      }
    },
    {
      "cell_type": "code",
      "source": [
        "x = np.reshape([i for i in range(num_epoch)], newshape=[num_epoch, 1])\n",
        "loss_data = np.reshape(loss_arr, newshape=[num_epoch, 1])\n",
        "\n",
        "win_3 = vis.line(\n",
        "    X=x.reshape(x.shape[0]),\n",
        "    Y=loss_data.reshape(loss_data.shape[0]),\n",
        ")"
      ],
      "metadata": {
        "id": "RY2acVekOCPU"
      },
      "execution_count": 13,
      "outputs": []
    }
  ]
}