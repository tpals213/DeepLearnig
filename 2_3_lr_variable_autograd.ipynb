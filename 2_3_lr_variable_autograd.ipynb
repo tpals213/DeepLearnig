{
  "nbformat": 4,
  "nbformat_minor": 0,
  "metadata": {
    "colab": {
      "provenance": [],
      "gpuType": "T4",
      "authorship_tag": "ABX9TyM4Q1sQk+Qb4b8nqfDnQDSc",
      "include_colab_link": true
    },
    "kernelspec": {
      "name": "python3",
      "display_name": "Python 3"
    },
    "language_info": {
      "name": "python"
    },
    "accelerator": "GPU"
  },
  "cells": [
    {
      "cell_type": "markdown",
      "metadata": {
        "id": "view-in-github",
        "colab_type": "text"
      },
      "source": [
        "<a href=\"https://colab.research.google.com/github/tpals213/DeepLearnig/blob/main/2_3_lr_variable_autograd.ipynb\" target=\"_parent\"><img src=\"https://colab.research.google.com/assets/colab-badge.svg\" alt=\"Open In Colab\"/></a>"
      ]
    },
    {
      "cell_type": "markdown",
      "source": [
        "# 1. import required libraries"
      ],
      "metadata": {
        "id": "d9u-NZ9l90aX"
      }
    },
    {
      "cell_type": "code",
      "execution_count": 2,
      "metadata": {
        "id": "agnCq3JN7J1c"
      },
      "outputs": [],
      "source": [
        " import torch\n",
        " from torch.autograd import Variable"
      ]
    },
    {
      "cell_type": "markdown",
      "source": [
        "# 2. Tensor vs Variable\n",
        "1) Declartion"
      ],
      "metadata": {
        "id": "ikRNeZwU-UlO"
      }
    },
    {
      "cell_type": "code",
      "source": [
        "x_tensor = torch.Tensor(3, 4)\n",
        "x_tensor"
      ],
      "metadata": {
        "colab": {
          "base_uri": "https://localhost:8080/"
        },
        "id": "lyyC2RpD-6re",
        "outputId": "52b9d63b-275d-49e0-8c9e-53ae2f3bb913"
      },
      "execution_count": 3,
      "outputs": [
        {
          "output_type": "execute_result",
          "data": {
            "text/plain": [
              "tensor([[2.7604e+20, 1.5766e-19, 1.1513e-38, 3.0697e-41],\n",
              "        [1.5653e-42, 3.0697e-41, 6.2792e-42, 0.0000e+00],\n",
              "        [2.5948e-17, 4.3471e-41, 2.5948e-17, 4.3471e-41]])"
            ]
          },
          "metadata": {},
          "execution_count": 3
        }
      ]
    },
    {
      "cell_type": "code",
      "source": [
        "x_variable = Variable(x_tensor)\n",
        "x_variable"
      ],
      "metadata": {
        "colab": {
          "base_uri": "https://localhost:8080/"
        },
        "id": "c55cYTZI_O82",
        "outputId": "ae0a6f36-4ce2-4682-dead-11483bb3d6a2"
      },
      "execution_count": 6,
      "outputs": [
        {
          "output_type": "execute_result",
          "data": {
            "text/plain": [
              "tensor([[2.7604e+20, 1.5766e-19, 1.1513e-38, 3.0697e-41],\n",
              "        [1.5653e-42, 3.0697e-41, 6.2792e-42, 0.0000e+00],\n",
              "        [2.5948e-17, 4.3471e-41, 2.5948e-17, 4.3471e-41]])"
            ]
          },
          "metadata": {},
          "execution_count": 6
        }
      ]
    },
    {
      "cell_type": "markdown",
      "source": [
        "Variable 은 autogradient 가능함<br>\n",
        "Pytorch 0.4 이상에서는 Tensor 에 Variable 이 통합되고, Variabe은 deprecated\n",
        "Tensor 만 사용  \n",
        "2) Variable of a Variable"
      ],
      "metadata": {
        "id": "ga_UNthm_u3-"
      }
    },
    {
      "cell_type": "code",
      "source": [
        "# data 속성\n",
        "x_variable.data"
      ],
      "metadata": {
        "colab": {
          "base_uri": "https://localhost:8080/"
        },
        "id": "NRDZm-qcAWou",
        "outputId": "7f4aeac9-78e0-424f-adc6-e56b9c98cf64"
      },
      "execution_count": 7,
      "outputs": [
        {
          "output_type": "execute_result",
          "data": {
            "text/plain": [
              "tensor([[2.7604e+20, 1.5766e-19, 1.1513e-38, 3.0697e-41],\n",
              "        [1.5653e-42, 3.0697e-41, 6.2792e-42, 0.0000e+00],\n",
              "        [2.5948e-17, 4.3471e-41, 2.5948e-17, 4.3471e-41]])"
            ]
          },
          "metadata": {},
          "execution_count": 7
        }
      ]
    },
    {
      "cell_type": "code",
      "source": [
        "# grad 속성 : 값에 대한 gradient\n",
        "# Variable 생성시 초기화되면서, gradient 도 같이 정의\n",
        "print(x_variable.grad)"
      ],
      "metadata": {
        "colab": {
          "base_uri": "https://localhost:8080/"
        },
        "id": "sZtxPJySA1W2",
        "outputId": "c29a3fdf-a1a0-4eb7-ad3d-555d3d476d2b"
      },
      "execution_count": 8,
      "outputs": [
        {
          "output_type": "stream",
          "name": "stdout",
          "text": [
            "None\n"
          ]
        }
      ]
    },
    {
      "cell_type": "code",
      "source": [
        "# requires_grad 속성 : 값에 대한 gradient 요구시 사용함\n",
        "print(x_variable.requires_grad) # 속성의 설정값 확인 : False\n",
        "# gradient 가 계싼이 안된 상태"
      ],
      "metadata": {
        "colab": {
          "base_uri": "https://localhost:8080/"
        },
        "id": "o22ESht0BXdd",
        "outputId": "256e8f71-50a3-4b92-ea57-dc8666049157"
      },
      "execution_count": 9,
      "outputs": [
        {
          "output_type": "stream",
          "name": "stdout",
          "text": [
            "False\n"
          ]
        }
      ]
    },
    {
      "cell_type": "code",
      "source": [
        "# gradient 에 대한 연산을 수행하게 함 : True\n",
        "x_variable = Variable(x_tensor, requires_grad = True)\n",
        "x_variable.requires_grad"
      ],
      "metadata": {
        "colab": {
          "base_uri": "https://localhost:8080/"
        },
        "id": "azgeSwIaCN4O",
        "outputId": "20660089-c5d8-42e0-b6d1-ffa9958946b2"
      },
      "execution_count": 10,
      "outputs": [
        {
          "output_type": "execute_result",
          "data": {
            "text/plain": [
              "True"
            ]
          },
          "metadata": {},
          "execution_count": 10
        }
      ]
    },
    {
      "cell_type": "code",
      "source": [
        "# volatile 속성 : 최소 메모리 사용에 대한 설정\n",
        "# requires_grad 가 False 이면, volatile 도 자동 False 가 됨\n",
        "x_variable = Variable(x_tensor, volatile=True)\n",
        "x_variable.grad, x_variable.requires_grad, x_variable.volatile"
      ],
      "metadata": {
        "colab": {
          "base_uri": "https://localhost:8080/"
        },
        "id": "5gXobJSUCuMu",
        "outputId": "1d573fb6-cc99-4f88-f96d-07a78d6094ca"
      },
      "execution_count": 11,
      "outputs": [
        {
          "output_type": "stream",
          "name": "stderr",
          "text": [
            "<ipython-input-11-6cd144ec761a>:3: UserWarning: volatile was removed and now has no effect. Use `with torch.no_grad():` instead.\n",
            "  x_variable = Variable(x_tensor, volatile=True)\n",
            "<ipython-input-11-6cd144ec761a>:4: UserWarning: volatile was removed (Variable.volatile is always False)\n",
            "  x_variable.grad, x_variable.requires_grad, x_variable.volatile\n"
          ]
        },
        {
          "output_type": "execute_result",
          "data": {
            "text/plain": [
              "(None, False, False)"
            ]
          },
          "metadata": {},
          "execution_count": 11
        }
      ]
    },
    {
      "cell_type": "markdown",
      "source": [
        "# 3. Graph & Variables"
      ],
      "metadata": {
        "id": "JD9QFf2sD7ct"
      }
    },
    {
      "cell_type": "code",
      "source": [
        "# create graph\n",
        "x = Variable(torch.FloatTensor(3, 4), requires_grad=True)\n",
        "y = x**2 + 4*x\n",
        "z = 2*y + 3\n",
        "\n",
        "x.requires_grad, y.requires_grad, z.requires_grad"
      ],
      "metadata": {
        "colab": {
          "base_uri": "https://localhost:8080/"
        },
        "id": "6SkzWyw7EAr8",
        "outputId": "00f49605-8048-45a6-edb3-4bf436cceac4"
      },
      "execution_count": 12,
      "outputs": [
        {
          "output_type": "execute_result",
          "data": {
            "text/plain": [
              "(True, True, True)"
            ]
          },
          "metadata": {},
          "execution_count": 12
        }
      ]
    },
    {
      "cell_type": "markdown",
      "source": [
        "backward(gradient, retain_graph, create_graph, retain_variables)  \n",
        "현재 값 w, r, t, graph 에 대한 gradient 계산 함수  \n",
        "역전파 알고리즘 적용된 계산함수  \n"
      ],
      "metadata": {
        "id": "3fsyfNXsFIZ1"
      }
    },
    {
      "cell_type": "code",
      "source": [
        "# 위의 z 값으로 x 의 gradient 를 계산해 냄\n",
        "loss = torch.FloatTensor(3, 4)\n",
        "z.backward(loss)\n",
        "\n",
        "print(x.grad)\n",
        "y.grad, z.grad"
      ],
      "metadata": {
        "colab": {
          "base_uri": "https://localhost:8080/"
        },
        "id": "o_4gZ4n_FG8W",
        "outputId": "9544d69b-109c-4d91-99c8-b47e5a4b5eb9"
      },
      "execution_count": 13,
      "outputs": [
        {
          "output_type": "stream",
          "name": "stdout",
          "text": [
            "tensor([[0.0000e+00, 0.0000e+00, 6.1642e+32, 5.7718e+23],\n",
            "        [1.2613e-18, 8.2048e-08, 5.2505e-06, 2.4217e+13],\n",
            "        [8.6702e-08, 1.3445e-03, 3.2369e+27,        inf]])\n"
          ]
        },
        {
          "output_type": "stream",
          "name": "stderr",
          "text": [
            "<ipython-input-13-1e201076fae7>:6: UserWarning: The .grad attribute of a Tensor that is not a leaf Tensor is being accessed. Its .grad attribute won't be populated during autograd.backward(). If you indeed want the .grad field to be populated for a non-leaf Tensor, use .retain_grad() on the non-leaf Tensor. If you access the non-leaf Tensor by mistake, make sure you access the leaf Tensor instead. See github.com/pytorch/pytorch/pull/30531 for more informations. (Triggered internally at aten/src/ATen/core/TensorBody.h:489.)\n",
            "  y.grad, z.grad\n"
          ]
        },
        {
          "output_type": "execute_result",
          "data": {
            "text/plain": [
              "(None, None)"
            ]
          },
          "metadata": {},
          "execution_count": 13
        }
      ]
    }
  ]
}